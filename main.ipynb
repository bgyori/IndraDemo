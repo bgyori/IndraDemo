{
 "cells": [
  {
   "cell_type": "markdown",
   "id": "c2fb565b-3024-48c6-a1e2-809d6b44ce5a",
   "metadata": {},
   "source": [
    "## STEP 0: IMPORT LIBRARIES AND VARIABLES"
   ]
  },
  {
   "cell_type": "code",
   "execution_count": 1,
   "id": "0bc221af-f06c-4c58-a3f3-33bcd654bab4",
   "metadata": {},
   "outputs": [
    {
     "name": "stderr",
     "output_type": "stream",
     "text": [
      "/Users/tonywu/workspace/IndraDemo/.venv/lib/python3.12/site-packages/tqdm/auto.py:21: TqdmWarning: IProgress not found. Please update jupyter and ipywidgets. See https://ipywidgets.readthedocs.io/en/stable/user_install.html\n",
      "  from .autonotebook import tqdm as notebook_tqdm\n"
     ]
    }
   ],
   "source": [
    "import pandas\n",
    "import requests\n",
    "from protmapper import uniprot_client\n",
    "from indra.databases.hgnc_client import get_hgnc_name\n",
    "from gseapy import enrichr\n",
    "import networkx as nx\n",
    "import plotly.graph_objects as go\n",
    "import math\n",
    "import random"
   ]
  },
  {
   "cell_type": "code",
   "execution_count": 39,
   "id": "8debae0f-3113-4005-b5c7-5a96e6873082",
   "metadata": {},
   "outputs": [],
   "source": [
    "DATASET_NAME = \"SMALL_MOLECULE_INTERVENTION\"\n",
    "DATASET_PATH = \"model.csv\"\n",
    "DATASET_VALUES = [\"BREAST_CANCER\", \"SMALL_MOLECULE_INTERVENTION\"]\n",
    "LABELS = [\"DMSO-DbET6\"]\n",
    "P_VALUE_CONSTRAINT = 0.05"
   ]
  },
  {
   "cell_type": "markdown",
   "id": "a1b549a1-bd83-4e62-a5ce-8a3c0ed4d4fc",
   "metadata": {},
   "source": [
    "## STEP 1: FETCH DATA FROM INDRA"
   ]
  },
  {
   "cell_type": "code",
   "execution_count": 40,
   "id": "7a09d0d0-0f73-4152-bfe6-46474485f0c8",
   "metadata": {},
   "outputs": [],
   "source": [
    "def search_uniprot(mnemonic_id):\n",
    "    protein_id = uniprot_client.get_id_from_mnemonic(mnemonic_id)\n",
    "    if protein_id:\n",
    "        return uniprot_client.get_hgnc_id(protein_id)\n",
    "    else:\n",
    "        return None"
   ]
  },
  {
   "cell_type": "code",
   "execution_count": 41,
   "id": "a29af6c4-c1d4-4414-b4a2-ecee0cb67aed",
   "metadata": {},
   "outputs": [],
   "source": [
    "def construct_df(filename):\n",
    "    pandas_df = pandas.read_csv(filename)\n",
    "    if DATASET_NAME == \"BREAST_CANCER\":\n",
    "        pandas_df[['sp', 'Protein', 'Gene']] = pandas_df['Protein'].str.split('|', expand=True)\n",
    "        pandas_df = pandas_df.loc[pandas_df['adj.pvalue'] < P_VALUE_CONSTRAINT]\n",
    "        pandas_df['HGNC'] = pandas_df['Protein'].apply(lambda protein_id: uniprot_client.get_hgnc_id(protein_id))\n",
    "    elif DATASET_NAME == \"SMALL_MOLECULE_INTERVENTION\":\n",
    "        pandas_df = pandas_df.loc[pandas_df['adj.pvalue'] < P_VALUE_CONSTRAINT]\n",
    "        pandas_df = pandas_df.loc[pandas_df['issue'].isnull()]\n",
    "        pandas_df = pandas_df.loc[pandas_df['Label'].isin(LABELS)]\n",
    "        pandas_df['HGNC'] = pandas_df['Protein'].apply(\n",
    "            lambda mnemonic_id: search_uniprot(mnemonic_id)\n",
    "        )\n",
    "        pandas_df = pandas_df.loc[pandas_df['HGNC'].notnull()]\n",
    "    return pandas_df"
   ]
  },
  {
   "cell_type": "code",
   "execution_count": 42,
   "id": "db8b3601-bd11-4f80-b271-230e0bacaffe",
   "metadata": {},
   "outputs": [],
   "source": [
    "def create_groundings(df):\n",
    "    hgnc_ids = set()\n",
    "    groundings = {}\n",
    "    for index, row in df.iterrows():\n",
    "        hgnc_ids.add(row['HGNC'])\n",
    "    for index, entry in enumerate(hgnc_ids):\n",
    "        groundings[index] = 'HGNC', entry\n",
    "    return groundings"
   ]
  },
  {
   "cell_type": "code",
   "execution_count": 43,
   "id": "2b8e4124-e577-43af-b60b-912bfa266bb2",
   "metadata": {},
   "outputs": [],
   "source": [
    "def query_indra(filename):\n",
    "    pandas_df = construct_df(filename)\n",
    "    groundings = create_groundings(pandas_df)\n",
    "    res = requests.post(\n",
    "        'https://discovery.indra.bio/api/indra_subnetwork_relations',\n",
    "        json={'nodes': list(groundings.values())}\n",
    "    )\n",
    "    return res\n",
    "\n",
    "res = query_indra(DATASET_PATH)"
   ]
  },
  {
   "cell_type": "code",
   "execution_count": 44,
   "id": "ac1956cf-f7e8-4e1d-8bc4-3063d6600981",
   "metadata": {},
   "outputs": [
    {
     "data": {
      "text/plain": [
       "{'data': {'belief': 0.65,\n",
       "  'evidence_count': 1,\n",
       "  'has_database_evidence': False,\n",
       "  'has_reader_evidence': True,\n",
       "  'has_retracted_evidence': False,\n",
       "  'medscan_only': False,\n",
       "  'source_counts': '{\"sparser\": 1}',\n",
       "  'sparser_only': True,\n",
       "  'stmt_hash': 6100415255007272,\n",
       "  'stmt_json': '{\"type\": \"Complex\", \"members\": [{\"name\": \"RAD21\", \"db_refs\": {\"UP\": \"O60216\", \"TEXT\": \"RAD21\", \"HGNC\": \"9811\", \"EGID\": \"5885\"}}, {\"name\": \"BRD2\", \"db_refs\": {\"UP\": \"P25440\", \"TEXT\": \"BRD2\", \"HGNC\": \"1103\", \"EGID\": \"6046\"}}, {\"name\": \"BRD4\", \"db_refs\": {\"UP\": \"O60885\", \"TEXT\": \"BRD4\", \"HGNC\": \"13575\", \"EGID\": \"23476\"}}], \"belief\": 0.65, \"evidence\": [{\"source_api\": \"sparser\", \"pmid\": \"28107481\", \"text\": \"However, we were unable to demonstrate any direct physical interaction between BRD2 or BRD4 with cohesin subunit RAD21 ( xref ), suggesting the conformational control of KSHV latency involves additional factors.\", \"annotations\": {\"found_by\": \"INTERACT\"}, \"text_refs\": {\"PMID\": \"28107481\", \"TRID\": 16352739, \"PMCID\": \"PMC5287475\", \"DOI\": \"10.1371/JOURNAL.PPAT.1006100\"}, \"source_hash\": -5857008756386512230}], \"id\": \"a2b3575a-ae54-4a6a-a256-726aefe5a387\", \"matches_hash\": \"6100415255007272\"}',\n",
       "  'stmt_type': 'Complex'},\n",
       " 'rel_type': 'indra_rel',\n",
       " 'source_id': '13575',\n",
       " 'source_ns': 'HGNC',\n",
       " 'target_id': '1103',\n",
       " 'target_ns': 'HGNC'}"
      ]
     },
     "execution_count": 44,
     "metadata": {},
     "output_type": "execute_result"
    }
   ],
   "source": [
    "res.json()[0]"
   ]
  },
  {
   "cell_type": "markdown",
   "id": "731ef719-cd17-4b3d-9ea1-9d997626e18b",
   "metadata": {},
   "source": [
    "## STEP 2: CONSTRUCT NETWORKX GRAPH OBJECT"
   ]
  },
  {
   "cell_type": "code",
   "execution_count": 45,
   "id": "1bd0d6c1-c4b3-4865-993c-9f3f0cfa3657",
   "metadata": {},
   "outputs": [],
   "source": [
    "def initialize_networkx_graph(res):\n",
    "    output = res.json()\n",
    "    G = nx.DiGraph()\n",
    "    for entry in output:\n",
    "        if entry['data']['stmt_type'] == 'Complex':\n",
    "            G.add_node(entry['source_id'])\n",
    "            G.add_node(entry['target_id'])\n",
    "            if G.has_edge(entry['target_id'], entry['source_id']):\n",
    "                if (entry['data']['evidence_count']\n",
    "                        <= G.get_edge_data(entry['target_id'], entry['source_id'])['evidence']):\n",
    "                    # Accounts for bidirectional edges for now\n",
    "                    continue\n",
    "            G.add_edge(\n",
    "                entry['source_id'],\n",
    "                entry['target_id'],\n",
    "                evidence=entry['data']['evidence_count'],\n",
    "                belief=entry['data']['belief'],\n",
    "                type=entry['data']['stmt_type']\n",
    "            )\n",
    "\n",
    "    return G"
   ]
  },
  {
   "cell_type": "code",
   "execution_count": 46,
   "id": "e8e828a8-b6cb-408c-89c8-d433b79c39c0",
   "metadata": {},
   "outputs": [],
   "source": [
    "def find_communities(G, weight='evidence'):\n",
    "    return nx.community.louvain_communities(G, weight=weight)"
   ]
  },
  {
   "cell_type": "code",
   "execution_count": 47,
   "id": "92b5caa0-dcc1-46ad-a52f-fa2fbda0f111",
   "metadata": {},
   "outputs": [],
   "source": [
    "def generate_node_initial_positions(G, communities):\n",
    "    initial_pos = {}\n",
    "    circle_r = 1\n",
    "    big_r = 1\n",
    "    pi = math.pi\n",
    "    centers = [(math.cos(2 * pi / len(communities) * x) * big_r, math.sin(2 * pi / len(communities) * x) * big_r)\n",
    "               for x in range(0, len(communities))]\n",
    "    for index, nodes in enumerate(communities):\n",
    "        for node in nodes:\n",
    "            alpha = 2 * math.pi * random.random()\n",
    "            r = circle_r * math.sqrt(random.random())\n",
    "            x = r * math.cos(alpha) + centers[index][0]\n",
    "            y = r * math.sin(alpha) + centers[index][1]\n",
    "            initial_pos[node] = [x, y]\n",
    "            nx.set_node_attributes(G, {node: index}, name='community')\n",
    "    \n",
    "    return initial_pos"
   ]
  },
  {
   "cell_type": "code",
   "execution_count": 48,
   "id": "ff704894-9ca5-44c2-b2da-b58af296ad7c",
   "metadata": {},
   "outputs": [],
   "source": [
    "def apply_layout_to_graph(G, initial_pos, k = 30, iterations = 100, weight = 'evidence'):\n",
    "    pos = nx.spring_layout(G, weight=weight, k=k / math.sqrt(len(G.nodes)), pos=initial_pos, iterations=iterations)\n",
    "    for node in G.nodes():\n",
    "        x = pos[node][0]\n",
    "        y = pos[node][1]\n",
    "        nx.set_node_attributes(G, {node: [x, y]}, name='pos')\n",
    "    return G"
   ]
  },
  {
   "cell_type": "code",
   "execution_count": 49,
   "id": "96dcbc95-649d-449b-8d65-0b7f1bddb746",
   "metadata": {},
   "outputs": [],
   "source": [
    "def apply_gsea_to_graph(G, communities):\n",
    "    for index, nodes in enumerate(communities):\n",
    "        # Do GSEA and fetch top gene set\n",
    "        gene_list = [get_hgnc_name(node) for node in nodes]\n",
    "        gene_sets = enrichr(gene_list=gene_list,\n",
    "                            gene_sets=['GO_Biological_Process_2023', 'GO_Cellular_Component_2023',\n",
    "                                       'GO_Molecular_Function_2023'],\n",
    "                            organism='Human').results\n",
    "        top_gene_set = (f'{gene_sets['Term'][0]} w/ p-value '\n",
    "                        f'{str(gene_sets['Adjusted P-value'][0])}')\n",
    "        for node in nodes:\n",
    "            nx.set_node_attributes(G, {node: top_gene_set}, name='gsea')"
   ]
  },
  {
   "cell_type": "code",
   "execution_count": 50,
   "id": "7e7c8a05-f9c4-4ab5-adf1-7e9cc8c30557",
   "metadata": {},
   "outputs": [],
   "source": [
    "def construct_networkx_graph(res):\n",
    "    G = initialize_networkx_graph(res)\n",
    "    communities = find_communities(G)\n",
    "    initial_pos = generate_node_initial_positions(G, communities)\n",
    "    apply_layout_to_graph(G, initial_pos)\n",
    "    apply_gsea_to_graph(G, communities)\n",
    "    return G\n",
    "\n",
    "\n",
    "G = construct_networkx_graph(res)"
   ]
  },
  {
   "cell_type": "code",
   "execution_count": 51,
   "id": "415cc963-7f70-4862-b3bc-0af147d2df7c",
   "metadata": {},
   "outputs": [
    {
     "data": {
      "text/plain": [
       "{'community': 0,\n",
       " 'pos': [0.756415632503348, 0.17946363200023735],\n",
       " 'gsea': 'Regulation Of DNA-templated Transcription (GO:0006355) w/ p-value 0.0124941806174711'}"
      ]
     },
     "execution_count": 51,
     "metadata": {},
     "output_type": "execute_result"
    }
   ],
   "source": [
    "G.nodes['13575']"
   ]
  },
  {
   "cell_type": "markdown",
   "id": "44dff699-8049-4d1f-837a-04a4b74cc73d",
   "metadata": {},
   "source": [
    "## STEP 3: GENERATE VISUALIZATION"
   ]
  },
  {
   "cell_type": "code",
   "execution_count": 37,
   "id": "98eb85d1-80c8-4cb9-a451-1c68bce6bf47",
   "metadata": {},
   "outputs": [],
   "source": [
    "def create_plotly_graph(G):\n",
    "    mnode_x, mnode_y, mnode_txt = [], [], []\n",
    "    arrow_list = []\n",
    "    for edge in G.edges():\n",
    "        x0, y0 = G.nodes[edge[0]]['pos']\n",
    "        x1, y1 = G.nodes[edge[1]]['pos']\n",
    "\n",
    "        mnode_x.extend([(x0 + x1) / 2])\n",
    "        mnode_y.extend([(y0 + y1) / 2])\n",
    "        mnode_txt.extend([f'HGNC:{edge[0]}->HGNC:{edge[1]} evidence count: {G.edges[edge]['evidence']}'])\n",
    "\n",
    "        arrow = go.layout.Annotation(dict(\n",
    "            x=x0,\n",
    "            y=y0,\n",
    "            xref=\"x\", yref=\"y\",\n",
    "            showarrow=True,\n",
    "            axref=\"x\", ayref='y',\n",
    "            ax=x1,\n",
    "            ay=y1,\n",
    "            arrowhead=3,\n",
    "            arrowwidth=min(5, G.edges[edge]['evidence']),\n",
    "            arrowcolor='lightgreen')\n",
    "        )\n",
    "\n",
    "        arrow_list.append(arrow)\n",
    "\n",
    "    mnode_trace = go.Scatter(\n",
    "        x=mnode_x, y=mnode_y,\n",
    "        mode=\"markers\",\n",
    "        showlegend=False,\n",
    "        hovertext=mnode_txt,\n",
    "        hovertemplate=\"Edge %{hovertext}<extra></extra>\",\n",
    "        marker=go.scatter.Marker(opacity=0)\n",
    "    )\n",
    "\n",
    "    node_x = []\n",
    "    node_y = []\n",
    "    for node in G.nodes():\n",
    "        x, y = G.nodes[node]['pos']\n",
    "        node_x.append(x)\n",
    "        node_y.append(y)\n",
    "\n",
    "    node_trace = go.Scatter(\n",
    "        x=node_x, y=node_y,\n",
    "        mode='markers+text',\n",
    "        hoverinfo='text',\n",
    "        text=['HGNC:' + node for node in list(G.nodes())],\n",
    "        textposition=\"bottom center\",\n",
    "        marker=dict(\n",
    "            showscale=True,\n",
    "            # colorscale options\n",
    "            # 'Greys' | 'YlGnBu' | 'Greens' | 'YlOrRd' | 'Bluered' | 'RdBu' |\n",
    "            # 'Reds' | 'Blues' | 'Picnic' | 'Rainbow' | 'Portland' | 'Jet' |\n",
    "            # 'Hot' | 'Blackbody' | 'Earth' | 'Electric' | 'Viridis' |\n",
    "            colorscale='YlGnBu',\n",
    "            reversescale=True,\n",
    "            color=[],\n",
    "            size=30,\n",
    "            colorbar=dict(\n",
    "                thickness=15,\n",
    "                title='Cluster ID',\n",
    "                xanchor='left',\n",
    "                titleside='right'\n",
    "            ),\n",
    "            line_width=2))\n",
    "\n",
    "    node_colors = []\n",
    "    node_text = []\n",
    "    for node in G.nodes():\n",
    "        node_text.append(G.nodes[node]['gsea'])\n",
    "        node_colors.append(G.nodes[node]['community'])\n",
    "\n",
    "    node_trace.marker.color = node_colors\n",
    "    node_trace.hovertext = node_text\n",
    "\n",
    "    fig = go.Figure(data=[mnode_trace, node_trace],\n",
    "                    layout=go.Layout(\n",
    "                        title='<br>Network graph made with Python',\n",
    "                        font=dict(\n",
    "                            family=\"Courier New, monospace\",\n",
    "                            size=10,\n",
    "                            color=\"Black\"\n",
    "                        ),\n",
    "                        annotations=arrow_list,\n",
    "                        showlegend=False,\n",
    "                        hovermode='closest',\n",
    "                        margin=dict(b=20, l=5, r=5, t=40),\n",
    "                        xaxis=dict(showgrid=False, zeroline=False, showticklabels=False),\n",
    "                        yaxis=dict(showgrid=False, zeroline=False, showticklabels=False))\n",
    "                    )\n",
    "    fig.show()"
   ]
  },
  {
   "cell_type": "code",
   "execution_count": 38,
   "id": "f95bdab6-07fb-4a4c-b6ee-cc753215ff34",
   "metadata": {},
   "outputs": [
    {
     "data": {
      "application/vnd.plotly.v1+json": {
       "config": {
        "plotlyServerURL": "https://plot.ly"
       },
       "data": [
        {
         "hovertemplate": "Edge %{hovertext}<extra></extra>",
         "hovertext": [
          "HGNC:13575->HGNC:1103 evidence count: 2",
          "HGNC:13575->HGNC:7867 evidence count: 6",
          "HGNC:13575->HGNC:1104 evidence count: 51",
          "HGNC:1103->HGNC:13575 evidence count: 113",
          "HGNC:1103->HGNC:1104 evidence count: 23",
          "HGNC:1104->HGNC:1103 evidence count: 1",
          "HGNC:1104->HGNC:13575 evidence count: 5",
          "HGNC:5176->HGNC:7867 evidence count: 1",
          "HGNC:24218->HGNC:7867 evidence count: 1",
          "HGNC:24218->HGNC:21535 evidence count: 1",
          "HGNC:21535->HGNC:7867 evidence count: 2",
          "HGNC:21535->HGNC:14098 evidence count: 1",
          "HGNC:6316->HGNC:4005 evidence count: 1",
          "HGNC:6316->HGNC:2683 evidence count: 1",
          "HGNC:5036->HGNC:4005 evidence count: 1",
          "HGNC:5036->HGNC:6316 evidence count: 9",
          "HGNC:2683->HGNC:4005 evidence count: 1",
          "HGNC:21100->HGNC:4005 evidence count: 4",
          "HGNC:25758->HGNC:28945 evidence count: 5",
          "HGNC:25758->HGNC:5176 evidence count: 1",
          "HGNC:11802->HGNC:2683 evidence count: 1",
          "HGNC:11802->HGNC:6316 evidence count: 1",
          "HGNC:11802->HGNC:5036 evidence count: 6",
          "HGNC:26087->HGNC:5036 evidence count: 1"
         ],
         "marker": {
          "opacity": 0
         },
         "mode": "markers",
         "showlegend": false,
         "type": "scatter",
         "x": [
          0.6262284547592286,
          -0.033852835003827964,
          0.7540467835034743,
          0.6262284547592286,
          0.8266343218536618,
          0.8266343218536618,
          0.7540467835034743,
          -0.7154868948023292,
          -0.3148362481534702,
          0.07438952201598437,
          -0.23212081624724235,
          0.529531424899735,
          -0.1502028250964119,
          -0.3083138110089476,
          -0.2780766287708574,
          0.012134958438859464,
          -0.5985253982186645,
          -0.22576494803826183,
          -0.22344515425696032,
          -0.4663552967198552,
          -0.4974130875657304,
          -0.04909051444347774,
          -0.17696431811792326,
          -0.036717546406166576
         ],
         "y": [
          0.5041829652828311,
          0.5720840458438263,
          0.476365606789784,
          0.5041829652828311,
          0.47379222883130034,
          0.47379222883130034,
          0.476365606789784,
          0.48388151581606675,
          0.8187058742231689,
          0.6913519425025489,
          0.5100578167257178,
          -0.019623352920584758,
          -0.8632417549582885,
          -0.5939718253734172,
          -0.7646771853360682,
          -0.8408922079632457,
          -0.5177568027462397,
          -0.7574537225785831,
          0.7280718001934198,
          0.4565408971220303,
          -0.35812970169262986,
          -0.7036146539046787,
          -0.6050500842824583,
          -0.8341885504769133
         ]
        },
        {
         "hoverinfo": "text",
         "hovertext": [
          "Regulation Of DNA-templated Transcription (GO:0006355) w/ p-value 0.0124941806174711",
          "Regulation Of DNA-templated Transcription (GO:0006355) w/ p-value 0.0124941806174711",
          "Regulation Of DNA-templated Transcription (GO:0006355) w/ p-value 0.0124941806174711",
          "Ribonucleoprotein Complex Biogenesis (GO:0022613) w/ p-value 7.372277882787827e-09",
          "Ribonucleoprotein Complex Biogenesis (GO:0022613) w/ p-value 7.372277882787827e-09",
          "Ribonucleoprotein Complex Biogenesis (GO:0022613) w/ p-value 7.372277882787827e-09",
          "Ribonucleoprotein Complex Biogenesis (GO:0022613) w/ p-value 7.372277882787827e-09",
          "Regulation Of mRNA Splicing, Via Spliceosome (GO:0048024) w/ p-value 0.0003158732523875804",
          "Regulation Of mRNA Splicing, Via Spliceosome (GO:0048024) w/ p-value 0.0003158732523875804",
          "Regulation Of mRNA Splicing, Via Spliceosome (GO:0048024) w/ p-value 0.0003158732523875804",
          "Regulation Of mRNA Splicing, Via Spliceosome (GO:0048024) w/ p-value 0.0003158732523875804",
          "Regulation Of mRNA Splicing, Via Spliceosome (GO:0048024) w/ p-value 0.0003158732523875804",
          "Ribonucleoprotein Complex Biogenesis (GO:0022613) w/ p-value 7.372277882787827e-09",
          "Ribonucleoprotein Complex Biogenesis (GO:0022613) w/ p-value 7.372277882787827e-09",
          "Regulation Of mRNA Splicing, Via Spliceosome (GO:0048024) w/ p-value 0.0003158732523875804",
          "Regulation Of mRNA Splicing, Via Spliceosome (GO:0048024) w/ p-value 0.0003158732523875804",
          "Ribonucleoprotein Complex Biogenesis (GO:0022613) w/ p-value 7.372277882787827e-09"
         ],
         "marker": {
          "color": [
           0,
           0,
           0,
           1,
           1,
           1,
           1,
           2,
           2,
           2,
           2,
           2,
           1,
           1,
           2,
           2,
           1
          ],
          "colorbar": {
           "thickness": 15,
           "title": {
            "side": "right",
            "text": "Cluster ID"
           },
           "xanchor": "left"
          },
          "colorscale": [
           [
            0,
            "rgb(255,255,217)"
           ],
           [
            0.125,
            "rgb(237,248,177)"
           ],
           [
            0.25,
            "rgb(199,233,180)"
           ],
           [
            0.375,
            "rgb(127,205,187)"
           ],
           [
            0.5,
            "rgb(65,182,196)"
           ],
           [
            0.625,
            "rgb(29,145,192)"
           ],
           [
            0.75,
            "rgb(34,94,168)"
           ],
           [
            0.875,
            "rgb(37,52,148)"
           ],
           [
            1,
            "rgb(8,29,88)"
           ]
          ],
          "line": {
           "width": 2
          },
          "reversescale": true,
          "showscale": true,
          "size": 30
         },
         "mode": "markers+text",
         "text": [
          "HGNC:13575",
          "HGNC:1103",
          "HGNC:1104",
          "HGNC:5176",
          "HGNC:7867",
          "HGNC:24218",
          "HGNC:21535",
          "HGNC:6316",
          "HGNC:4005",
          "HGNC:5036",
          "HGNC:2683",
          "HGNC:21100",
          "HGNC:25758",
          "HGNC:28945",
          "HGNC:11802",
          "HGNC:26087",
          "HGNC:14098"
         ],
         "textposition": "bottom center",
         "type": "scatter",
         "x": [
          0.553640916409041,
          0.6988159931094162,
          0.9544526505979075,
          -0.8096272031879613,
          -0.6213465864166969,
          -0.00832590989024347,
          0.15710495392221221,
          0.14000876211330499,
          -0.44041441230612877,
          -0.11573884523558606,
          -0.7566363841312003,
          -0.011115483770394896,
          -0.12308339025174911,
          -0.3238069182621715,
          -0.23818979100026047,
          0.04230375242325291,
          0.9019578958772578
         ],
         "y": [
          0.5067563432413148,
          0.5016095873243475,
          0.4459748703382533,
          0.3303512831857958,
          0.6374117484463377,
          1,
          0.38270388500509783,
          -0.939456777585466,
          -0.7870267323311111,
          -0.7423276383410253,
          -0.2484868731613684,
          -0.7278807128260553,
          0.5827305110582647,
          0.8734130893285749,
          -0.46777253022389137,
          -0.9260494626128013,
          -0.42195059084626735
         ]
        }
       ],
       "layout": {
        "annotations": [
         {
          "arrowcolor": "lightgreen",
          "arrowhead": 3,
          "arrowwidth": 2,
          "ax": 0.6988159931094162,
          "axref": "x",
          "ay": 0.5016095873243475,
          "ayref": "y",
          "showarrow": true,
          "x": 0.553640916409041,
          "xref": "x",
          "y": 0.5067563432413148,
          "yref": "y"
         },
         {
          "arrowcolor": "lightgreen",
          "arrowhead": 3,
          "arrowwidth": 5,
          "ax": -0.6213465864166969,
          "axref": "x",
          "ay": 0.6374117484463377,
          "ayref": "y",
          "showarrow": true,
          "x": 0.553640916409041,
          "xref": "x",
          "y": 0.5067563432413148,
          "yref": "y"
         },
         {
          "arrowcolor": "lightgreen",
          "arrowhead": 3,
          "arrowwidth": 5,
          "ax": 0.9544526505979075,
          "axref": "x",
          "ay": 0.4459748703382533,
          "ayref": "y",
          "showarrow": true,
          "x": 0.553640916409041,
          "xref": "x",
          "y": 0.5067563432413148,
          "yref": "y"
         },
         {
          "arrowcolor": "lightgreen",
          "arrowhead": 3,
          "arrowwidth": 5,
          "ax": 0.553640916409041,
          "axref": "x",
          "ay": 0.5067563432413148,
          "ayref": "y",
          "showarrow": true,
          "x": 0.6988159931094162,
          "xref": "x",
          "y": 0.5016095873243475,
          "yref": "y"
         },
         {
          "arrowcolor": "lightgreen",
          "arrowhead": 3,
          "arrowwidth": 5,
          "ax": 0.9544526505979075,
          "axref": "x",
          "ay": 0.4459748703382533,
          "ayref": "y",
          "showarrow": true,
          "x": 0.6988159931094162,
          "xref": "x",
          "y": 0.5016095873243475,
          "yref": "y"
         },
         {
          "arrowcolor": "lightgreen",
          "arrowhead": 3,
          "arrowwidth": 1,
          "ax": 0.6988159931094162,
          "axref": "x",
          "ay": 0.5016095873243475,
          "ayref": "y",
          "showarrow": true,
          "x": 0.9544526505979075,
          "xref": "x",
          "y": 0.4459748703382533,
          "yref": "y"
         },
         {
          "arrowcolor": "lightgreen",
          "arrowhead": 3,
          "arrowwidth": 5,
          "ax": 0.553640916409041,
          "axref": "x",
          "ay": 0.5067563432413148,
          "ayref": "y",
          "showarrow": true,
          "x": 0.9544526505979075,
          "xref": "x",
          "y": 0.4459748703382533,
          "yref": "y"
         },
         {
          "arrowcolor": "lightgreen",
          "arrowhead": 3,
          "arrowwidth": 1,
          "ax": -0.6213465864166969,
          "axref": "x",
          "ay": 0.6374117484463377,
          "ayref": "y",
          "showarrow": true,
          "x": -0.8096272031879613,
          "xref": "x",
          "y": 0.3303512831857958,
          "yref": "y"
         },
         {
          "arrowcolor": "lightgreen",
          "arrowhead": 3,
          "arrowwidth": 1,
          "ax": -0.6213465864166969,
          "axref": "x",
          "ay": 0.6374117484463377,
          "ayref": "y",
          "showarrow": true,
          "x": -0.00832590989024347,
          "xref": "x",
          "y": 1,
          "yref": "y"
         },
         {
          "arrowcolor": "lightgreen",
          "arrowhead": 3,
          "arrowwidth": 1,
          "ax": 0.15710495392221221,
          "axref": "x",
          "ay": 0.38270388500509783,
          "ayref": "y",
          "showarrow": true,
          "x": -0.00832590989024347,
          "xref": "x",
          "y": 1,
          "yref": "y"
         },
         {
          "arrowcolor": "lightgreen",
          "arrowhead": 3,
          "arrowwidth": 2,
          "ax": -0.6213465864166969,
          "axref": "x",
          "ay": 0.6374117484463377,
          "ayref": "y",
          "showarrow": true,
          "x": 0.15710495392221221,
          "xref": "x",
          "y": 0.38270388500509783,
          "yref": "y"
         },
         {
          "arrowcolor": "lightgreen",
          "arrowhead": 3,
          "arrowwidth": 1,
          "ax": 0.9019578958772578,
          "axref": "x",
          "ay": -0.42195059084626735,
          "ayref": "y",
          "showarrow": true,
          "x": 0.15710495392221221,
          "xref": "x",
          "y": 0.38270388500509783,
          "yref": "y"
         },
         {
          "arrowcolor": "lightgreen",
          "arrowhead": 3,
          "arrowwidth": 1,
          "ax": -0.44041441230612877,
          "axref": "x",
          "ay": -0.7870267323311111,
          "ayref": "y",
          "showarrow": true,
          "x": 0.14000876211330499,
          "xref": "x",
          "y": -0.939456777585466,
          "yref": "y"
         },
         {
          "arrowcolor": "lightgreen",
          "arrowhead": 3,
          "arrowwidth": 1,
          "ax": -0.7566363841312003,
          "axref": "x",
          "ay": -0.2484868731613684,
          "ayref": "y",
          "showarrow": true,
          "x": 0.14000876211330499,
          "xref": "x",
          "y": -0.939456777585466,
          "yref": "y"
         },
         {
          "arrowcolor": "lightgreen",
          "arrowhead": 3,
          "arrowwidth": 1,
          "ax": -0.44041441230612877,
          "axref": "x",
          "ay": -0.7870267323311111,
          "ayref": "y",
          "showarrow": true,
          "x": -0.11573884523558606,
          "xref": "x",
          "y": -0.7423276383410253,
          "yref": "y"
         },
         {
          "arrowcolor": "lightgreen",
          "arrowhead": 3,
          "arrowwidth": 5,
          "ax": 0.14000876211330499,
          "axref": "x",
          "ay": -0.939456777585466,
          "ayref": "y",
          "showarrow": true,
          "x": -0.11573884523558606,
          "xref": "x",
          "y": -0.7423276383410253,
          "yref": "y"
         },
         {
          "arrowcolor": "lightgreen",
          "arrowhead": 3,
          "arrowwidth": 1,
          "ax": -0.44041441230612877,
          "axref": "x",
          "ay": -0.7870267323311111,
          "ayref": "y",
          "showarrow": true,
          "x": -0.7566363841312003,
          "xref": "x",
          "y": -0.2484868731613684,
          "yref": "y"
         },
         {
          "arrowcolor": "lightgreen",
          "arrowhead": 3,
          "arrowwidth": 4,
          "ax": -0.44041441230612877,
          "axref": "x",
          "ay": -0.7870267323311111,
          "ayref": "y",
          "showarrow": true,
          "x": -0.011115483770394896,
          "xref": "x",
          "y": -0.7278807128260553,
          "yref": "y"
         },
         {
          "arrowcolor": "lightgreen",
          "arrowhead": 3,
          "arrowwidth": 5,
          "ax": -0.3238069182621715,
          "axref": "x",
          "ay": 0.8734130893285749,
          "ayref": "y",
          "showarrow": true,
          "x": -0.12308339025174911,
          "xref": "x",
          "y": 0.5827305110582647,
          "yref": "y"
         },
         {
          "arrowcolor": "lightgreen",
          "arrowhead": 3,
          "arrowwidth": 1,
          "ax": -0.8096272031879613,
          "axref": "x",
          "ay": 0.3303512831857958,
          "ayref": "y",
          "showarrow": true,
          "x": -0.12308339025174911,
          "xref": "x",
          "y": 0.5827305110582647,
          "yref": "y"
         },
         {
          "arrowcolor": "lightgreen",
          "arrowhead": 3,
          "arrowwidth": 1,
          "ax": -0.7566363841312003,
          "axref": "x",
          "ay": -0.2484868731613684,
          "ayref": "y",
          "showarrow": true,
          "x": -0.23818979100026047,
          "xref": "x",
          "y": -0.46777253022389137,
          "yref": "y"
         },
         {
          "arrowcolor": "lightgreen",
          "arrowhead": 3,
          "arrowwidth": 1,
          "ax": 0.14000876211330499,
          "axref": "x",
          "ay": -0.939456777585466,
          "ayref": "y",
          "showarrow": true,
          "x": -0.23818979100026047,
          "xref": "x",
          "y": -0.46777253022389137,
          "yref": "y"
         },
         {
          "arrowcolor": "lightgreen",
          "arrowhead": 3,
          "arrowwidth": 5,
          "ax": -0.11573884523558606,
          "axref": "x",
          "ay": -0.7423276383410253,
          "ayref": "y",
          "showarrow": true,
          "x": -0.23818979100026047,
          "xref": "x",
          "y": -0.46777253022389137,
          "yref": "y"
         },
         {
          "arrowcolor": "lightgreen",
          "arrowhead": 3,
          "arrowwidth": 1,
          "ax": -0.11573884523558606,
          "axref": "x",
          "ay": -0.7423276383410253,
          "ayref": "y",
          "showarrow": true,
          "x": 0.04230375242325291,
          "xref": "x",
          "y": -0.9260494626128013,
          "yref": "y"
         }
        ],
        "autosize": true,
        "font": {
         "color": "Black",
         "family": "Courier New, monospace",
         "size": 10
        },
        "hovermode": "closest",
        "margin": {
         "b": 20,
         "l": 5,
         "r": 5,
         "t": 40
        },
        "showlegend": false,
        "template": {
         "data": {
          "bar": [
           {
            "error_x": {
             "color": "#2a3f5f"
            },
            "error_y": {
             "color": "#2a3f5f"
            },
            "marker": {
             "line": {
              "color": "#E5ECF6",
              "width": 0.5
             },
             "pattern": {
              "fillmode": "overlay",
              "size": 10,
              "solidity": 0.2
             }
            },
            "type": "bar"
           }
          ],
          "barpolar": [
           {
            "marker": {
             "line": {
              "color": "#E5ECF6",
              "width": 0.5
             },
             "pattern": {
              "fillmode": "overlay",
              "size": 10,
              "solidity": 0.2
             }
            },
            "type": "barpolar"
           }
          ],
          "carpet": [
           {
            "aaxis": {
             "endlinecolor": "#2a3f5f",
             "gridcolor": "white",
             "linecolor": "white",
             "minorgridcolor": "white",
             "startlinecolor": "#2a3f5f"
            },
            "baxis": {
             "endlinecolor": "#2a3f5f",
             "gridcolor": "white",
             "linecolor": "white",
             "minorgridcolor": "white",
             "startlinecolor": "#2a3f5f"
            },
            "type": "carpet"
           }
          ],
          "choropleth": [
           {
            "colorbar": {
             "outlinewidth": 0,
             "ticks": ""
            },
            "type": "choropleth"
           }
          ],
          "contour": [
           {
            "colorbar": {
             "outlinewidth": 0,
             "ticks": ""
            },
            "colorscale": [
             [
              0,
              "#0d0887"
             ],
             [
              0.1111111111111111,
              "#46039f"
             ],
             [
              0.2222222222222222,
              "#7201a8"
             ],
             [
              0.3333333333333333,
              "#9c179e"
             ],
             [
              0.4444444444444444,
              "#bd3786"
             ],
             [
              0.5555555555555556,
              "#d8576b"
             ],
             [
              0.6666666666666666,
              "#ed7953"
             ],
             [
              0.7777777777777778,
              "#fb9f3a"
             ],
             [
              0.8888888888888888,
              "#fdca26"
             ],
             [
              1,
              "#f0f921"
             ]
            ],
            "type": "contour"
           }
          ],
          "contourcarpet": [
           {
            "colorbar": {
             "outlinewidth": 0,
             "ticks": ""
            },
            "type": "contourcarpet"
           }
          ],
          "heatmap": [
           {
            "colorbar": {
             "outlinewidth": 0,
             "ticks": ""
            },
            "colorscale": [
             [
              0,
              "#0d0887"
             ],
             [
              0.1111111111111111,
              "#46039f"
             ],
             [
              0.2222222222222222,
              "#7201a8"
             ],
             [
              0.3333333333333333,
              "#9c179e"
             ],
             [
              0.4444444444444444,
              "#bd3786"
             ],
             [
              0.5555555555555556,
              "#d8576b"
             ],
             [
              0.6666666666666666,
              "#ed7953"
             ],
             [
              0.7777777777777778,
              "#fb9f3a"
             ],
             [
              0.8888888888888888,
              "#fdca26"
             ],
             [
              1,
              "#f0f921"
             ]
            ],
            "type": "heatmap"
           }
          ],
          "heatmapgl": [
           {
            "colorbar": {
             "outlinewidth": 0,
             "ticks": ""
            },
            "colorscale": [
             [
              0,
              "#0d0887"
             ],
             [
              0.1111111111111111,
              "#46039f"
             ],
             [
              0.2222222222222222,
              "#7201a8"
             ],
             [
              0.3333333333333333,
              "#9c179e"
             ],
             [
              0.4444444444444444,
              "#bd3786"
             ],
             [
              0.5555555555555556,
              "#d8576b"
             ],
             [
              0.6666666666666666,
              "#ed7953"
             ],
             [
              0.7777777777777778,
              "#fb9f3a"
             ],
             [
              0.8888888888888888,
              "#fdca26"
             ],
             [
              1,
              "#f0f921"
             ]
            ],
            "type": "heatmapgl"
           }
          ],
          "histogram": [
           {
            "marker": {
             "pattern": {
              "fillmode": "overlay",
              "size": 10,
              "solidity": 0.2
             }
            },
            "type": "histogram"
           }
          ],
          "histogram2d": [
           {
            "colorbar": {
             "outlinewidth": 0,
             "ticks": ""
            },
            "colorscale": [
             [
              0,
              "#0d0887"
             ],
             [
              0.1111111111111111,
              "#46039f"
             ],
             [
              0.2222222222222222,
              "#7201a8"
             ],
             [
              0.3333333333333333,
              "#9c179e"
             ],
             [
              0.4444444444444444,
              "#bd3786"
             ],
             [
              0.5555555555555556,
              "#d8576b"
             ],
             [
              0.6666666666666666,
              "#ed7953"
             ],
             [
              0.7777777777777778,
              "#fb9f3a"
             ],
             [
              0.8888888888888888,
              "#fdca26"
             ],
             [
              1,
              "#f0f921"
             ]
            ],
            "type": "histogram2d"
           }
          ],
          "histogram2dcontour": [
           {
            "colorbar": {
             "outlinewidth": 0,
             "ticks": ""
            },
            "colorscale": [
             [
              0,
              "#0d0887"
             ],
             [
              0.1111111111111111,
              "#46039f"
             ],
             [
              0.2222222222222222,
              "#7201a8"
             ],
             [
              0.3333333333333333,
              "#9c179e"
             ],
             [
              0.4444444444444444,
              "#bd3786"
             ],
             [
              0.5555555555555556,
              "#d8576b"
             ],
             [
              0.6666666666666666,
              "#ed7953"
             ],
             [
              0.7777777777777778,
              "#fb9f3a"
             ],
             [
              0.8888888888888888,
              "#fdca26"
             ],
             [
              1,
              "#f0f921"
             ]
            ],
            "type": "histogram2dcontour"
           }
          ],
          "mesh3d": [
           {
            "colorbar": {
             "outlinewidth": 0,
             "ticks": ""
            },
            "type": "mesh3d"
           }
          ],
          "parcoords": [
           {
            "line": {
             "colorbar": {
              "outlinewidth": 0,
              "ticks": ""
             }
            },
            "type": "parcoords"
           }
          ],
          "pie": [
           {
            "automargin": true,
            "type": "pie"
           }
          ],
          "scatter": [
           {
            "fillpattern": {
             "fillmode": "overlay",
             "size": 10,
             "solidity": 0.2
            },
            "type": "scatter"
           }
          ],
          "scatter3d": [
           {
            "line": {
             "colorbar": {
              "outlinewidth": 0,
              "ticks": ""
             }
            },
            "marker": {
             "colorbar": {
              "outlinewidth": 0,
              "ticks": ""
             }
            },
            "type": "scatter3d"
           }
          ],
          "scattercarpet": [
           {
            "marker": {
             "colorbar": {
              "outlinewidth": 0,
              "ticks": ""
             }
            },
            "type": "scattercarpet"
           }
          ],
          "scattergeo": [
           {
            "marker": {
             "colorbar": {
              "outlinewidth": 0,
              "ticks": ""
             }
            },
            "type": "scattergeo"
           }
          ],
          "scattergl": [
           {
            "marker": {
             "colorbar": {
              "outlinewidth": 0,
              "ticks": ""
             }
            },
            "type": "scattergl"
           }
          ],
          "scattermapbox": [
           {
            "marker": {
             "colorbar": {
              "outlinewidth": 0,
              "ticks": ""
             }
            },
            "type": "scattermapbox"
           }
          ],
          "scatterpolar": [
           {
            "marker": {
             "colorbar": {
              "outlinewidth": 0,
              "ticks": ""
             }
            },
            "type": "scatterpolar"
           }
          ],
          "scatterpolargl": [
           {
            "marker": {
             "colorbar": {
              "outlinewidth": 0,
              "ticks": ""
             }
            },
            "type": "scatterpolargl"
           }
          ],
          "scatterternary": [
           {
            "marker": {
             "colorbar": {
              "outlinewidth": 0,
              "ticks": ""
             }
            },
            "type": "scatterternary"
           }
          ],
          "surface": [
           {
            "colorbar": {
             "outlinewidth": 0,
             "ticks": ""
            },
            "colorscale": [
             [
              0,
              "#0d0887"
             ],
             [
              0.1111111111111111,
              "#46039f"
             ],
             [
              0.2222222222222222,
              "#7201a8"
             ],
             [
              0.3333333333333333,
              "#9c179e"
             ],
             [
              0.4444444444444444,
              "#bd3786"
             ],
             [
              0.5555555555555556,
              "#d8576b"
             ],
             [
              0.6666666666666666,
              "#ed7953"
             ],
             [
              0.7777777777777778,
              "#fb9f3a"
             ],
             [
              0.8888888888888888,
              "#fdca26"
             ],
             [
              1,
              "#f0f921"
             ]
            ],
            "type": "surface"
           }
          ],
          "table": [
           {
            "cells": {
             "fill": {
              "color": "#EBF0F8"
             },
             "line": {
              "color": "white"
             }
            },
            "header": {
             "fill": {
              "color": "#C8D4E3"
             },
             "line": {
              "color": "white"
             }
            },
            "type": "table"
           }
          ]
         },
         "layout": {
          "annotationdefaults": {
           "arrowcolor": "#2a3f5f",
           "arrowhead": 0,
           "arrowwidth": 1
          },
          "autotypenumbers": "strict",
          "coloraxis": {
           "colorbar": {
            "outlinewidth": 0,
            "ticks": ""
           }
          },
          "colorscale": {
           "diverging": [
            [
             0,
             "#8e0152"
            ],
            [
             0.1,
             "#c51b7d"
            ],
            [
             0.2,
             "#de77ae"
            ],
            [
             0.3,
             "#f1b6da"
            ],
            [
             0.4,
             "#fde0ef"
            ],
            [
             0.5,
             "#f7f7f7"
            ],
            [
             0.6,
             "#e6f5d0"
            ],
            [
             0.7,
             "#b8e186"
            ],
            [
             0.8,
             "#7fbc41"
            ],
            [
             0.9,
             "#4d9221"
            ],
            [
             1,
             "#276419"
            ]
           ],
           "sequential": [
            [
             0,
             "#0d0887"
            ],
            [
             0.1111111111111111,
             "#46039f"
            ],
            [
             0.2222222222222222,
             "#7201a8"
            ],
            [
             0.3333333333333333,
             "#9c179e"
            ],
            [
             0.4444444444444444,
             "#bd3786"
            ],
            [
             0.5555555555555556,
             "#d8576b"
            ],
            [
             0.6666666666666666,
             "#ed7953"
            ],
            [
             0.7777777777777778,
             "#fb9f3a"
            ],
            [
             0.8888888888888888,
             "#fdca26"
            ],
            [
             1,
             "#f0f921"
            ]
           ],
           "sequentialminus": [
            [
             0,
             "#0d0887"
            ],
            [
             0.1111111111111111,
             "#46039f"
            ],
            [
             0.2222222222222222,
             "#7201a8"
            ],
            [
             0.3333333333333333,
             "#9c179e"
            ],
            [
             0.4444444444444444,
             "#bd3786"
            ],
            [
             0.5555555555555556,
             "#d8576b"
            ],
            [
             0.6666666666666666,
             "#ed7953"
            ],
            [
             0.7777777777777778,
             "#fb9f3a"
            ],
            [
             0.8888888888888888,
             "#fdca26"
            ],
            [
             1,
             "#f0f921"
            ]
           ]
          },
          "colorway": [
           "#636efa",
           "#EF553B",
           "#00cc96",
           "#ab63fa",
           "#FFA15A",
           "#19d3f3",
           "#FF6692",
           "#B6E880",
           "#FF97FF",
           "#FECB52"
          ],
          "font": {
           "color": "#2a3f5f"
          },
          "geo": {
           "bgcolor": "white",
           "lakecolor": "white",
           "landcolor": "#E5ECF6",
           "showlakes": true,
           "showland": true,
           "subunitcolor": "white"
          },
          "hoverlabel": {
           "align": "left"
          },
          "hovermode": "closest",
          "mapbox": {
           "style": "light"
          },
          "paper_bgcolor": "white",
          "plot_bgcolor": "#E5ECF6",
          "polar": {
           "angularaxis": {
            "gridcolor": "white",
            "linecolor": "white",
            "ticks": ""
           },
           "bgcolor": "#E5ECF6",
           "radialaxis": {
            "gridcolor": "white",
            "linecolor": "white",
            "ticks": ""
           }
          },
          "scene": {
           "xaxis": {
            "backgroundcolor": "#E5ECF6",
            "gridcolor": "white",
            "gridwidth": 2,
            "linecolor": "white",
            "showbackground": true,
            "ticks": "",
            "zerolinecolor": "white"
           },
           "yaxis": {
            "backgroundcolor": "#E5ECF6",
            "gridcolor": "white",
            "gridwidth": 2,
            "linecolor": "white",
            "showbackground": true,
            "ticks": "",
            "zerolinecolor": "white"
           },
           "zaxis": {
            "backgroundcolor": "#E5ECF6",
            "gridcolor": "white",
            "gridwidth": 2,
            "linecolor": "white",
            "showbackground": true,
            "ticks": "",
            "zerolinecolor": "white"
           }
          },
          "shapedefaults": {
           "line": {
            "color": "#2a3f5f"
           }
          },
          "ternary": {
           "aaxis": {
            "gridcolor": "white",
            "linecolor": "white",
            "ticks": ""
           },
           "baxis": {
            "gridcolor": "white",
            "linecolor": "white",
            "ticks": ""
           },
           "bgcolor": "#E5ECF6",
           "caxis": {
            "gridcolor": "white",
            "linecolor": "white",
            "ticks": ""
           }
          },
          "title": {
           "x": 0.05
          },
          "xaxis": {
           "automargin": true,
           "gridcolor": "white",
           "linecolor": "white",
           "ticks": "",
           "title": {
            "standoff": 15
           },
           "zerolinecolor": "white",
           "zerolinewidth": 2
          },
          "yaxis": {
           "automargin": true,
           "gridcolor": "white",
           "linecolor": "white",
           "ticks": "",
           "title": {
            "standoff": 15
           },
           "zerolinecolor": "white",
           "zerolinewidth": 2
          }
         }
        },
        "title": {
         "text": "<br>Network graph made with Python"
        },
        "xaxis": {
         "autorange": true,
         "range": [
          -0.9497153033368793,
          1.0945407507468254
         ],
         "showgrid": false,
         "showticklabels": false,
         "type": "linear",
         "zeroline": false
        },
        "yaxis": {
         "autorange": true,
         "range": [
          -1.2209908259446465,
          1.2815340483591806
         ],
         "showgrid": false,
         "showticklabels": false,
         "type": "linear",
         "zeroline": false
        }
       }
      },
      "image/png": "[encoded data removed]",
      "text/html": [
       "<div>                            <div id=\"60d47c8e-65f7-47d1-98b0-3e49bf069b0e\" class=\"plotly-graph-div\" style=\"height:525px; width:100%;\"></div>            <script type=\"text/javascript\">                require([\"plotly\"], function(Plotly) {                    window.PLOTLYENV=window.PLOTLYENV || {};                                    if (document.getElementById(\"60d47c8e-65f7-47d1-98b0-3e49bf069b0e\")) {                    Plotly.newPlot(                        \"60d47c8e-65f7-47d1-98b0-3e49bf069b0e\",                        [{\"hovertemplate\":\"Edge %{hovertext}\\u003cextra\\u003e\\u003c\\u002fextra\\u003e\",\"hovertext\":[\"HGNC:13575-\\u003eHGNC:1103 evidence count: 2\",\"HGNC:13575-\\u003eHGNC:7867 evidence count: 6\",\"HGNC:13575-\\u003eHGNC:1104 evidence count: 51\",\"HGNC:1103-\\u003eHGNC:13575 evidence count: 113\",\"HGNC:1103-\\u003eHGNC:1104 evidence count: 23\",\"HGNC:1104-\\u003eHGNC:1103 evidence count: 1\",\"HGNC:1104-\\u003eHGNC:13575 evidence count: 5\",\"HGNC:5176-\\u003eHGNC:7867 evidence count: 1\",\"HGNC:24218-\\u003eHGNC:7867 evidence count: 1\",\"HGNC:24218-\\u003eHGNC:21535 evidence count: 1\",\"HGNC:21535-\\u003eHGNC:7867 evidence count: 2\",\"HGNC:21535-\\u003eHGNC:14098 evidence count: 1\",\"HGNC:6316-\\u003eHGNC:4005 evidence count: 1\",\"HGNC:6316-\\u003eHGNC:2683 evidence count: 1\",\"HGNC:5036-\\u003eHGNC:4005 evidence count: 1\",\"HGNC:5036-\\u003eHGNC:6316 evidence count: 9\",\"HGNC:2683-\\u003eHGNC:4005 evidence count: 1\",\"HGNC:21100-\\u003eHGNC:4005 evidence count: 4\",\"HGNC:25758-\\u003eHGNC:28945 evidence count: 5\",\"HGNC:25758-\\u003eHGNC:5176 evidence count: 1\",\"HGNC:11802-\\u003eHGNC:2683 evidence count: 1\",\"HGNC:11802-\\u003eHGNC:6316 evidence count: 1\",\"HGNC:11802-\\u003eHGNC:5036 evidence count: 6\",\"HGNC:26087-\\u003eHGNC:5036 evidence count: 1\"],\"marker\":{\"opacity\":0},\"mode\":\"markers\",\"showlegend\":false,\"x\":[0.6262284547592286,-0.033852835003827964,0.7540467835034743,0.6262284547592286,0.8266343218536618,0.8266343218536618,0.7540467835034743,-0.7154868948023292,-0.3148362481534702,0.07438952201598437,-0.23212081624724235,0.529531424899735,-0.1502028250964119,-0.3083138110089476,-0.2780766287708574,0.012134958438859464,-0.5985253982186645,-0.22576494803826183,-0.22344515425696032,-0.4663552967198552,-0.4974130875657304,-0.04909051444347774,-0.17696431811792326,-0.036717546406166576],\"y\":[0.5041829652828311,0.5720840458438263,0.476365606789784,0.5041829652828311,0.47379222883130034,0.47379222883130034,0.476365606789784,0.48388151581606675,0.8187058742231689,0.6913519425025489,0.5100578167257178,-0.019623352920584758,-0.8632417549582885,-0.5939718253734172,-0.7646771853360682,-0.8408922079632457,-0.5177568027462397,-0.7574537225785831,0.7280718001934198,0.4565408971220303,-0.35812970169262986,-0.7036146539046787,-0.6050500842824583,-0.8341885504769133],\"type\":\"scatter\"},{\"hoverinfo\":\"text\",\"hovertext\":[\"Regulation Of DNA-templated Transcription (GO:0006355) w\\u002f p-value 0.0124941806174711\",\"Regulation Of DNA-templated Transcription (GO:0006355) w\\u002f p-value 0.0124941806174711\",\"Regulation Of DNA-templated Transcription (GO:0006355) w\\u002f p-value 0.0124941806174711\",\"Ribonucleoprotein Complex Biogenesis (GO:0022613) w\\u002f p-value 7.372277882787827e-09\",\"Ribonucleoprotein Complex Biogenesis (GO:0022613) w\\u002f p-value 7.372277882787827e-09\",\"Ribonucleoprotein Complex Biogenesis (GO:0022613) w\\u002f p-value 7.372277882787827e-09\",\"Ribonucleoprotein Complex Biogenesis (GO:0022613) w\\u002f p-value 7.372277882787827e-09\",\"Regulation Of mRNA Splicing, Via Spliceosome (GO:0048024) w\\u002f p-value 0.0003158732523875804\",\"Regulation Of mRNA Splicing, Via Spliceosome (GO:0048024) w\\u002f p-value 0.0003158732523875804\",\"Regulation Of mRNA Splicing, Via Spliceosome (GO:0048024) w\\u002f p-value 0.0003158732523875804\",\"Regulation Of mRNA Splicing, Via Spliceosome (GO:0048024) w\\u002f p-value 0.0003158732523875804\",\"Regulation Of mRNA Splicing, Via Spliceosome (GO:0048024) w\\u002f p-value 0.0003158732523875804\",\"Ribonucleoprotein Complex Biogenesis (GO:0022613) w\\u002f p-value 7.372277882787827e-09\",\"Ribonucleoprotein Complex Biogenesis (GO:0022613) w\\u002f p-value 7.372277882787827e-09\",\"Regulation Of mRNA Splicing, Via Spliceosome (GO:0048024) w\\u002f p-value 0.0003158732523875804\",\"Regulation Of mRNA Splicing, Via Spliceosome (GO:0048024) w\\u002f p-value 0.0003158732523875804\",\"Ribonucleoprotein Complex Biogenesis (GO:0022613) w\\u002f p-value 7.372277882787827e-09\"],\"marker\":{\"color\":[0,0,0,1,1,1,1,2,2,2,2,2,1,1,2,2,1],\"colorbar\":{\"thickness\":15,\"title\":{\"side\":\"right\",\"text\":\"Cluster ID\"},\"xanchor\":\"left\"},\"colorscale\":[[0.0,\"rgb(255,255,217)\"],[0.125,\"rgb(237,248,177)\"],[0.25,\"rgb(199,233,180)\"],[0.375,\"rgb(127,205,187)\"],[0.5,\"rgb(65,182,196)\"],[0.625,\"rgb(29,145,192)\"],[0.75,\"rgb(34,94,168)\"],[0.875,\"rgb(37,52,148)\"],[1.0,\"rgb(8,29,88)\"]],\"line\":{\"width\":2},\"reversescale\":true,\"showscale\":true,\"size\":30},\"mode\":\"markers+text\",\"text\":[\"HGNC:13575\",\"HGNC:1103\",\"HGNC:1104\",\"HGNC:5176\",\"HGNC:7867\",\"HGNC:24218\",\"HGNC:21535\",\"HGNC:6316\",\"HGNC:4005\",\"HGNC:5036\",\"HGNC:2683\",\"HGNC:21100\",\"HGNC:25758\",\"HGNC:28945\",\"HGNC:11802\",\"HGNC:26087\",\"HGNC:14098\"],\"textposition\":\"bottom center\",\"x\":[0.553640916409041,0.6988159931094162,0.9544526505979075,-0.8096272031879613,-0.6213465864166969,-0.00832590989024347,0.15710495392221221,0.14000876211330499,-0.44041441230612877,-0.11573884523558606,-0.7566363841312003,-0.011115483770394896,-0.12308339025174911,-0.3238069182621715,-0.23818979100026047,0.04230375242325291,0.9019578958772578],\"y\":[0.5067563432413148,0.5016095873243475,0.4459748703382533,0.3303512831857958,0.6374117484463377,1.0,0.38270388500509783,-0.939456777585466,-0.7870267323311111,-0.7423276383410253,-0.2484868731613684,-0.7278807128260553,0.5827305110582647,0.8734130893285749,-0.46777253022389137,-0.9260494626128013,-0.42195059084626735],\"type\":\"scatter\"}],                        {\"annotations\":[{\"arrowcolor\":\"lightgreen\",\"arrowhead\":3,\"arrowwidth\":2,\"ax\":0.6988159931094162,\"axref\":\"x\",\"ay\":0.5016095873243475,\"ayref\":\"y\",\"showarrow\":true,\"x\":0.553640916409041,\"xref\":\"x\",\"y\":0.5067563432413148,\"yref\":\"y\"},{\"arrowcolor\":\"lightgreen\",\"arrowhead\":3,\"arrowwidth\":5,\"ax\":-0.6213465864166969,\"axref\":\"x\",\"ay\":0.6374117484463377,\"ayref\":\"y\",\"showarrow\":true,\"x\":0.553640916409041,\"xref\":\"x\",\"y\":0.5067563432413148,\"yref\":\"y\"},{\"arrowcolor\":\"lightgreen\",\"arrowhead\":3,\"arrowwidth\":5,\"ax\":0.9544526505979075,\"axref\":\"x\",\"ay\":0.4459748703382533,\"ayref\":\"y\",\"showarrow\":true,\"x\":0.553640916409041,\"xref\":\"x\",\"y\":0.5067563432413148,\"yref\":\"y\"},{\"arrowcolor\":\"lightgreen\",\"arrowhead\":3,\"arrowwidth\":5,\"ax\":0.553640916409041,\"axref\":\"x\",\"ay\":0.5067563432413148,\"ayref\":\"y\",\"showarrow\":true,\"x\":0.6988159931094162,\"xref\":\"x\",\"y\":0.5016095873243475,\"yref\":\"y\"},{\"arrowcolor\":\"lightgreen\",\"arrowhead\":3,\"arrowwidth\":5,\"ax\":0.9544526505979075,\"axref\":\"x\",\"ay\":0.4459748703382533,\"ayref\":\"y\",\"showarrow\":true,\"x\":0.6988159931094162,\"xref\":\"x\",\"y\":0.5016095873243475,\"yref\":\"y\"},{\"arrowcolor\":\"lightgreen\",\"arrowhead\":3,\"arrowwidth\":1,\"ax\":0.6988159931094162,\"axref\":\"x\",\"ay\":0.5016095873243475,\"ayref\":\"y\",\"showarrow\":true,\"x\":0.9544526505979075,\"xref\":\"x\",\"y\":0.4459748703382533,\"yref\":\"y\"},{\"arrowcolor\":\"lightgreen\",\"arrowhead\":3,\"arrowwidth\":5,\"ax\":0.553640916409041,\"axref\":\"x\",\"ay\":0.5067563432413148,\"ayref\":\"y\",\"showarrow\":true,\"x\":0.9544526505979075,\"xref\":\"x\",\"y\":0.4459748703382533,\"yref\":\"y\"},{\"arrowcolor\":\"lightgreen\",\"arrowhead\":3,\"arrowwidth\":1,\"ax\":-0.6213465864166969,\"axref\":\"x\",\"ay\":0.6374117484463377,\"ayref\":\"y\",\"showarrow\":true,\"x\":-0.8096272031879613,\"xref\":\"x\",\"y\":0.3303512831857958,\"yref\":\"y\"},{\"arrowcolor\":\"lightgreen\",\"arrowhead\":3,\"arrowwidth\":1,\"ax\":-0.6213465864166969,\"axref\":\"x\",\"ay\":0.6374117484463377,\"ayref\":\"y\",\"showarrow\":true,\"x\":-0.00832590989024347,\"xref\":\"x\",\"y\":1.0,\"yref\":\"y\"},{\"arrowcolor\":\"lightgreen\",\"arrowhead\":3,\"arrowwidth\":1,\"ax\":0.15710495392221221,\"axref\":\"x\",\"ay\":0.38270388500509783,\"ayref\":\"y\",\"showarrow\":true,\"x\":-0.00832590989024347,\"xref\":\"x\",\"y\":1.0,\"yref\":\"y\"},{\"arrowcolor\":\"lightgreen\",\"arrowhead\":3,\"arrowwidth\":2,\"ax\":-0.6213465864166969,\"axref\":\"x\",\"ay\":0.6374117484463377,\"ayref\":\"y\",\"showarrow\":true,\"x\":0.15710495392221221,\"xref\":\"x\",\"y\":0.38270388500509783,\"yref\":\"y\"},{\"arrowcolor\":\"lightgreen\",\"arrowhead\":3,\"arrowwidth\":1,\"ax\":0.9019578958772578,\"axref\":\"x\",\"ay\":-0.42195059084626735,\"ayref\":\"y\",\"showarrow\":true,\"x\":0.15710495392221221,\"xref\":\"x\",\"y\":0.38270388500509783,\"yref\":\"y\"},{\"arrowcolor\":\"lightgreen\",\"arrowhead\":3,\"arrowwidth\":1,\"ax\":-0.44041441230612877,\"axref\":\"x\",\"ay\":-0.7870267323311111,\"ayref\":\"y\",\"showarrow\":true,\"x\":0.14000876211330499,\"xref\":\"x\",\"y\":-0.939456777585466,\"yref\":\"y\"},{\"arrowcolor\":\"lightgreen\",\"arrowhead\":3,\"arrowwidth\":1,\"ax\":-0.7566363841312003,\"axref\":\"x\",\"ay\":-0.2484868731613684,\"ayref\":\"y\",\"showarrow\":true,\"x\":0.14000876211330499,\"xref\":\"x\",\"y\":-0.939456777585466,\"yref\":\"y\"},{\"arrowcolor\":\"lightgreen\",\"arrowhead\":3,\"arrowwidth\":1,\"ax\":-0.44041441230612877,\"axref\":\"x\",\"ay\":-0.7870267323311111,\"ayref\":\"y\",\"showarrow\":true,\"x\":-0.11573884523558606,\"xref\":\"x\",\"y\":-0.7423276383410253,\"yref\":\"y\"},{\"arrowcolor\":\"lightgreen\",\"arrowhead\":3,\"arrowwidth\":5,\"ax\":0.14000876211330499,\"axref\":\"x\",\"ay\":-0.939456777585466,\"ayref\":\"y\",\"showarrow\":true,\"x\":-0.11573884523558606,\"xref\":\"x\",\"y\":-0.7423276383410253,\"yref\":\"y\"},{\"arrowcolor\":\"lightgreen\",\"arrowhead\":3,\"arrowwidth\":1,\"ax\":-0.44041441230612877,\"axref\":\"x\",\"ay\":-0.7870267323311111,\"ayref\":\"y\",\"showarrow\":true,\"x\":-0.7566363841312003,\"xref\":\"x\",\"y\":-0.2484868731613684,\"yref\":\"y\"},{\"arrowcolor\":\"lightgreen\",\"arrowhead\":3,\"arrowwidth\":4,\"ax\":-0.44041441230612877,\"axref\":\"x\",\"ay\":-0.7870267323311111,\"ayref\":\"y\",\"showarrow\":true,\"x\":-0.011115483770394896,\"xref\":\"x\",\"y\":-0.7278807128260553,\"yref\":\"y\"},{\"arrowcolor\":\"lightgreen\",\"arrowhead\":3,\"arrowwidth\":5,\"ax\":-0.3238069182621715,\"axref\":\"x\",\"ay\":0.8734130893285749,\"ayref\":\"y\",\"showarrow\":true,\"x\":-0.12308339025174911,\"xref\":\"x\",\"y\":0.5827305110582647,\"yref\":\"y\"},{\"arrowcolor\":\"lightgreen\",\"arrowhead\":3,\"arrowwidth\":1,\"ax\":-0.8096272031879613,\"axref\":\"x\",\"ay\":0.3303512831857958,\"ayref\":\"y\",\"showarrow\":true,\"x\":-0.12308339025174911,\"xref\":\"x\",\"y\":0.5827305110582647,\"yref\":\"y\"},{\"arrowcolor\":\"lightgreen\",\"arrowhead\":3,\"arrowwidth\":1,\"ax\":-0.7566363841312003,\"axref\":\"x\",\"ay\":-0.2484868731613684,\"ayref\":\"y\",\"showarrow\":true,\"x\":-0.23818979100026047,\"xref\":\"x\",\"y\":-0.46777253022389137,\"yref\":\"y\"},{\"arrowcolor\":\"lightgreen\",\"arrowhead\":3,\"arrowwidth\":1,\"ax\":0.14000876211330499,\"axref\":\"x\",\"ay\":-0.939456777585466,\"ayref\":\"y\",\"showarrow\":true,\"x\":-0.23818979100026047,\"xref\":\"x\",\"y\":-0.46777253022389137,\"yref\":\"y\"},{\"arrowcolor\":\"lightgreen\",\"arrowhead\":3,\"arrowwidth\":5,\"ax\":-0.11573884523558606,\"axref\":\"x\",\"ay\":-0.7423276383410253,\"ayref\":\"y\",\"showarrow\":true,\"x\":-0.23818979100026047,\"xref\":\"x\",\"y\":-0.46777253022389137,\"yref\":\"y\"},{\"arrowcolor\":\"lightgreen\",\"arrowhead\":3,\"arrowwidth\":1,\"ax\":-0.11573884523558606,\"axref\":\"x\",\"ay\":-0.7423276383410253,\"ayref\":\"y\",\"showarrow\":true,\"x\":0.04230375242325291,\"xref\":\"x\",\"y\":-0.9260494626128013,\"yref\":\"y\"}],\"font\":{\"color\":\"Black\",\"family\":\"Courier New, monospace\",\"size\":10},\"hovermode\":\"closest\",\"margin\":{\"b\":20,\"l\":5,\"r\":5,\"t\":40},\"showlegend\":false,\"title\":{\"text\":\"\\u003cbr\\u003eNetwork graph made with Python\"},\"xaxis\":{\"showgrid\":false,\"showticklabels\":false,\"zeroline\":false},\"yaxis\":{\"showgrid\":false,\"showticklabels\":false,\"zeroline\":false},\"template\":{\"data\":{\"histogram2dcontour\":[{\"type\":\"histogram2dcontour\",\"colorbar\":{\"outlinewidth\":0,\"ticks\":\"\"},\"colorscale\":[[0.0,\"#0d0887\"],[0.1111111111111111,\"#46039f\"],[0.2222222222222222,\"#7201a8\"],[0.3333333333333333,\"#9c179e\"],[0.4444444444444444,\"#bd3786\"],[0.5555555555555556,\"#d8576b\"],[0.6666666666666666,\"#ed7953\"],[0.7777777777777778,\"#fb9f3a\"],[0.8888888888888888,\"#fdca26\"],[1.0,\"#f0f921\"]]}],\"choropleth\":[{\"type\":\"choropleth\",\"colorbar\":{\"outlinewidth\":0,\"ticks\":\"\"}}],\"histogram2d\":[{\"type\":\"histogram2d\",\"colorbar\":{\"outlinewidth\":0,\"ticks\":\"\"},\"colorscale\":[[0.0,\"#0d0887\"],[0.1111111111111111,\"#46039f\"],[0.2222222222222222,\"#7201a8\"],[0.3333333333333333,\"#9c179e\"],[0.4444444444444444,\"#bd3786\"],[0.5555555555555556,\"#d8576b\"],[0.6666666666666666,\"#ed7953\"],[0.7777777777777778,\"#fb9f3a\"],[0.8888888888888888,\"#fdca26\"],[1.0,\"#f0f921\"]]}],\"heatmap\":[{\"type\":\"heatmap\",\"colorbar\":{\"outlinewidth\":0,\"ticks\":\"\"},\"colorscale\":[[0.0,\"#0d0887\"],[0.1111111111111111,\"#46039f\"],[0.2222222222222222,\"#7201a8\"],[0.3333333333333333,\"#9c179e\"],[0.4444444444444444,\"#bd3786\"],[0.5555555555555556,\"#d8576b\"],[0.6666666666666666,\"#ed7953\"],[0.7777777777777778,\"#fb9f3a\"],[0.8888888888888888,\"#fdca26\"],[1.0,\"#f0f921\"]]}],\"heatmapgl\":[{\"type\":\"heatmapgl\",\"colorbar\":{\"outlinewidth\":0,\"ticks\":\"\"},\"colorscale\":[[0.0,\"#0d0887\"],[0.1111111111111111,\"#46039f\"],[0.2222222222222222,\"#7201a8\"],[0.3333333333333333,\"#9c179e\"],[0.4444444444444444,\"#bd3786\"],[0.5555555555555556,\"#d8576b\"],[0.6666666666666666,\"#ed7953\"],[0.7777777777777778,\"#fb9f3a\"],[0.8888888888888888,\"#fdca26\"],[1.0,\"#f0f921\"]]}],\"contourcarpet\":[{\"type\":\"contourcarpet\",\"colorbar\":{\"outlinewidth\":0,\"ticks\":\"\"}}],\"contour\":[{\"type\":\"contour\",\"colorbar\":{\"outlinewidth\":0,\"ticks\":\"\"},\"colorscale\":[[0.0,\"#0d0887\"],[0.1111111111111111,\"#46039f\"],[0.2222222222222222,\"#7201a8\"],[0.3333333333333333,\"#9c179e\"],[0.4444444444444444,\"#bd3786\"],[0.5555555555555556,\"#d8576b\"],[0.6666666666666666,\"#ed7953\"],[0.7777777777777778,\"#fb9f3a\"],[0.8888888888888888,\"#fdca26\"],[1.0,\"#f0f921\"]]}],\"surface\":[{\"type\":\"surface\",\"colorbar\":{\"outlinewidth\":0,\"ticks\":\"\"},\"colorscale\":[[0.0,\"#0d0887\"],[0.1111111111111111,\"#46039f\"],[0.2222222222222222,\"#7201a8\"],[0.3333333333333333,\"#9c179e\"],[0.4444444444444444,\"#bd3786\"],[0.5555555555555556,\"#d8576b\"],[0.6666666666666666,\"#ed7953\"],[0.7777777777777778,\"#fb9f3a\"],[0.8888888888888888,\"#fdca26\"],[1.0,\"#f0f921\"]]}],\"mesh3d\":[{\"type\":\"mesh3d\",\"colorbar\":{\"outlinewidth\":0,\"ticks\":\"\"}}],\"scatter\":[{\"fillpattern\":{\"fillmode\":\"overlay\",\"size\":10,\"solidity\":0.2},\"type\":\"scatter\"}],\"parcoords\":[{\"type\":\"parcoords\",\"line\":{\"colorbar\":{\"outlinewidth\":0,\"ticks\":\"\"}}}],\"scatterpolargl\":[{\"type\":\"scatterpolargl\",\"marker\":{\"colorbar\":{\"outlinewidth\":0,\"ticks\":\"\"}}}],\"bar\":[{\"error_x\":{\"color\":\"#2a3f5f\"},\"error_y\":{\"color\":\"#2a3f5f\"},\"marker\":{\"line\":{\"color\":\"#E5ECF6\",\"width\":0.5},\"pattern\":{\"fillmode\":\"overlay\",\"size\":10,\"solidity\":0.2}},\"type\":\"bar\"}],\"scattergeo\":[{\"type\":\"scattergeo\",\"marker\":{\"colorbar\":{\"outlinewidth\":0,\"ticks\":\"\"}}}],\"scatterpolar\":[{\"type\":\"scatterpolar\",\"marker\":{\"colorbar\":{\"outlinewidth\":0,\"ticks\":\"\"}}}],\"histogram\":[{\"marker\":{\"pattern\":{\"fillmode\":\"overlay\",\"size\":10,\"solidity\":0.2}},\"type\":\"histogram\"}],\"scattergl\":[{\"type\":\"scattergl\",\"marker\":{\"colorbar\":{\"outlinewidth\":0,\"ticks\":\"\"}}}],\"scatter3d\":[{\"type\":\"scatter3d\",\"line\":{\"colorbar\":{\"outlinewidth\":0,\"ticks\":\"\"}},\"marker\":{\"colorbar\":{\"outlinewidth\":0,\"ticks\":\"\"}}}],\"scattermapbox\":[{\"type\":\"scattermapbox\",\"marker\":{\"colorbar\":{\"outlinewidth\":0,\"ticks\":\"\"}}}],\"scatterternary\":[{\"type\":\"scatterternary\",\"marker\":{\"colorbar\":{\"outlinewidth\":0,\"ticks\":\"\"}}}],\"scattercarpet\":[{\"type\":\"scattercarpet\",\"marker\":{\"colorbar\":{\"outlinewidth\":0,\"ticks\":\"\"}}}],\"carpet\":[{\"aaxis\":{\"endlinecolor\":\"#2a3f5f\",\"gridcolor\":\"white\",\"linecolor\":\"white\",\"minorgridcolor\":\"white\",\"startlinecolor\":\"#2a3f5f\"},\"baxis\":{\"endlinecolor\":\"#2a3f5f\",\"gridcolor\":\"white\",\"linecolor\":\"white\",\"minorgridcolor\":\"white\",\"startlinecolor\":\"#2a3f5f\"},\"type\":\"carpet\"}],\"table\":[{\"cells\":{\"fill\":{\"color\":\"#EBF0F8\"},\"line\":{\"color\":\"white\"}},\"header\":{\"fill\":{\"color\":\"#C8D4E3\"},\"line\":{\"color\":\"white\"}},\"type\":\"table\"}],\"barpolar\":[{\"marker\":{\"line\":{\"color\":\"#E5ECF6\",\"width\":0.5},\"pattern\":{\"fillmode\":\"overlay\",\"size\":10,\"solidity\":0.2}},\"type\":\"barpolar\"}],\"pie\":[{\"automargin\":true,\"type\":\"pie\"}]},\"layout\":{\"autotypenumbers\":\"strict\",\"colorway\":[\"#636efa\",\"#EF553B\",\"#00cc96\",\"#ab63fa\",\"#FFA15A\",\"#19d3f3\",\"#FF6692\",\"#B6E880\",\"#FF97FF\",\"#FECB52\"],\"font\":{\"color\":\"#2a3f5f\"},\"hovermode\":\"closest\",\"hoverlabel\":{\"align\":\"left\"},\"paper_bgcolor\":\"white\",\"plot_bgcolor\":\"#E5ECF6\",\"polar\":{\"bgcolor\":\"#E5ECF6\",\"angularaxis\":{\"gridcolor\":\"white\",\"linecolor\":\"white\",\"ticks\":\"\"},\"radialaxis\":{\"gridcolor\":\"white\",\"linecolor\":\"white\",\"ticks\":\"\"}},\"ternary\":{\"bgcolor\":\"#E5ECF6\",\"aaxis\":{\"gridcolor\":\"white\",\"linecolor\":\"white\",\"ticks\":\"\"},\"baxis\":{\"gridcolor\":\"white\",\"linecolor\":\"white\",\"ticks\":\"\"},\"caxis\":{\"gridcolor\":\"white\",\"linecolor\":\"white\",\"ticks\":\"\"}},\"coloraxis\":{\"colorbar\":{\"outlinewidth\":0,\"ticks\":\"\"}},\"colorscale\":{\"sequential\":[[0.0,\"#0d0887\"],[0.1111111111111111,\"#46039f\"],[0.2222222222222222,\"#7201a8\"],[0.3333333333333333,\"#9c179e\"],[0.4444444444444444,\"#bd3786\"],[0.5555555555555556,\"#d8576b\"],[0.6666666666666666,\"#ed7953\"],[0.7777777777777778,\"#fb9f3a\"],[0.8888888888888888,\"#fdca26\"],[1.0,\"#f0f921\"]],\"sequentialminus\":[[0.0,\"#0d0887\"],[0.1111111111111111,\"#46039f\"],[0.2222222222222222,\"#7201a8\"],[0.3333333333333333,\"#9c179e\"],[0.4444444444444444,\"#bd3786\"],[0.5555555555555556,\"#d8576b\"],[0.6666666666666666,\"#ed7953\"],[0.7777777777777778,\"#fb9f3a\"],[0.8888888888888888,\"#fdca26\"],[1.0,\"#f0f921\"]],\"diverging\":[[0,\"#8e0152\"],[0.1,\"#c51b7d\"],[0.2,\"#de77ae\"],[0.3,\"#f1b6da\"],[0.4,\"#fde0ef\"],[0.5,\"#f7f7f7\"],[0.6,\"#e6f5d0\"],[0.7,\"#b8e186\"],[0.8,\"#7fbc41\"],[0.9,\"#4d9221\"],[1,\"#276419\"]]},\"xaxis\":{\"gridcolor\":\"white\",\"linecolor\":\"white\",\"ticks\":\"\",\"title\":{\"standoff\":15},\"zerolinecolor\":\"white\",\"automargin\":true,\"zerolinewidth\":2},\"yaxis\":{\"gridcolor\":\"white\",\"linecolor\":\"white\",\"ticks\":\"\",\"title\":{\"standoff\":15},\"zerolinecolor\":\"white\",\"automargin\":true,\"zerolinewidth\":2},\"scene\":{\"xaxis\":{\"backgroundcolor\":\"#E5ECF6\",\"gridcolor\":\"white\",\"linecolor\":\"white\",\"showbackground\":true,\"ticks\":\"\",\"zerolinecolor\":\"white\",\"gridwidth\":2},\"yaxis\":{\"backgroundcolor\":\"#E5ECF6\",\"gridcolor\":\"white\",\"linecolor\":\"white\",\"showbackground\":true,\"ticks\":\"\",\"zerolinecolor\":\"white\",\"gridwidth\":2},\"zaxis\":{\"backgroundcolor\":\"#E5ECF6\",\"gridcolor\":\"white\",\"linecolor\":\"white\",\"showbackground\":true,\"ticks\":\"\",\"zerolinecolor\":\"white\",\"gridwidth\":2}},\"shapedefaults\":{\"line\":{\"color\":\"#2a3f5f\"}},\"annotationdefaults\":{\"arrowcolor\":\"#2a3f5f\",\"arrowhead\":0,\"arrowwidth\":1},\"geo\":{\"bgcolor\":\"white\",\"landcolor\":\"#E5ECF6\",\"subunitcolor\":\"white\",\"showland\":true,\"showlakes\":true,\"lakecolor\":\"white\"},\"title\":{\"x\":0.05},\"mapbox\":{\"style\":\"light\"}}}},                        {\"responsive\": true}                    ).then(function(){\n",
       "                            \n",
       "var gd = document.getElementById('60d47c8e-65f7-47d1-98b0-3e49bf069b0e');\n",
       "var x = new MutationObserver(function (mutations, observer) {{\n",
       "        var display = window.getComputedStyle(gd).display;\n",
       "        if (!display || display === 'none') {{\n",
       "            console.log([gd, 'removed!']);\n",
       "            Plotly.purge(gd);\n",
       "            observer.disconnect();\n",
       "        }}\n",
       "}});\n",
       "\n",
       "// Listen for the removal of the full notebook cells\n",
       "var notebookContainer = gd.closest('#notebook-container');\n",
       "if (notebookContainer) {{\n",
       "    x.observe(notebookContainer, {childList: true});\n",
       "}}\n",
       "\n",
       "// Listen for the clearing of the current output cell\n",
       "var outputEl = gd.closest('.output');\n",
       "if (outputEl) {{\n",
       "    x.observe(outputEl, {childList: true});\n",
       "}}\n",
       "\n",
       "                        })                };                });            </script>        </div>"
      ]
     },
     "metadata": {},
     "output_type": "display_data"
    }
   ],
   "source": [
    "create_plotly_graph(G)"
   ]
  }
 ],
 "metadata": {
  "kernelspec": {
   "display_name": "venv",
   "language": "python",
   "name": "venv"
  },
  "language_info": {
   "codemirror_mode": {
    "name": "ipython",
    "version": 3
   },
   "file_extension": ".py",
   "mimetype": "text/x-python",
   "name": "python",
   "nbconvert_exporter": "python",
   "pygments_lexer": "ipython3",
   "version": "3.12.1"
  }
 },
 "nbformat": 4,
 "nbformat_minor": 5
}
