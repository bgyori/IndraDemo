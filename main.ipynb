{
 "cells": [
  {
   "cell_type": "markdown",
   "id": "c2fb565b-3024-48c6-a1e2-809d6b44ce5a",
   "metadata": {},
   "source": [
    "## STEP 0: IMPORT LIBRARIES AND VARIABLES"
   ]
  },
  {
   "cell_type": "code",
   "execution_count": 1,
   "id": "0bc221af-f06c-4c58-a3f3-33bcd654bab4",
   "metadata": {},
   "outputs": [],
   "source": [
    "import json\n",
    "import math\n",
    "import random\n",
    "\n",
    "import pandas\n",
    "import requests\n",
    "import networkx as nx\n",
    "import plotly.graph_objects as go\n",
    "from gseapy import enrichr\n",
    "\n",
    "from indra.statements import stmts_from_json\n",
    "from indra.databases import uniprot_client, hgnc_client\n",
    "from indra.assemblers.html import HtmlAssembler"
   ]
  },
  {
   "cell_type": "code",
   "execution_count": 2,
   "id": "8debae0f-3113-4005-b5c7-5a96e6873082",
   "metadata": {},
   "outputs": [],
   "source": [
    "DATASET_PATH = \"model.csv\" # Set this path yourself"
   ]
  },
  {
   "cell_type": "markdown",
   "id": "a1b549a1-bd83-4e62-a5ce-8a3c0ed4d4fc",
   "metadata": {},
   "source": [
    "## STEP 1: FETCH DATA FROM INDRA"
   ]
  },
  {
   "cell_type": "code",
   "execution_count": 3,
   "id": "7a09d0d0-0f73-4152-bfe6-46474485f0c8",
   "metadata": {},
   "outputs": [],
   "source": [
    "def uniprot_to_hgnc(uniprot_mnemonic):\n",
    "    \"\"\"Get an HGNC ID from a UniProt mnemonic.\"\"\"\n",
    "    uniprot_id = uniprot_client.get_id_from_mnemonic(uniprot_mnemonic)\n",
    "    if uniprot_id:\n",
    "        return uniprot_client.get_hgnc_id(uniprot_id)\n",
    "    else:\n",
    "        return None"
   ]
  },
  {
   "cell_type": "code",
   "execution_count": 4,
   "id": "a29af6c4-c1d4-4414-b4a2-ecee0cb67aed",
   "metadata": {},
   "outputs": [],
   "source": [
    "# Filter dataset\n",
    "LABELS_FILTER = [\"DMSO-DbET6\"]\n",
    "P_VALUE_FILTER = 0.05\n",
    "\n",
    "def construct_df(filename):\n",
    "    \"\"\"Return a filtered data frame from the given data file.\"\"\"\n",
    "    pandas_df = pandas.read_csv(filename)\n",
    "    pandas_df = pandas_df[pandas_df['adj.pvalue'] < P_VALUE_FILTER]\n",
    "    pandas_df = pandas_df[pandas_df['issue'].isnull()]\n",
    "    pandas_df = pandas_df[pandas_df['Label'].isin(LABELS_FILTER)]\n",
    "    pandas_df['HGNC'] = pandas_df['Protein'].apply(\n",
    "        lambda uniprot_mnemonic: uniprot_to_hgnc(uniprot_mnemonic)\n",
    "    )\n",
    "    pandas_df = pandas_df[pandas_df['HGNC'].notnull()]\n",
    "    return pandas_df"
   ]
  },
  {
   "cell_type": "code",
   "execution_count": 5,
   "id": "db8b3601-bd11-4f80-b271-230e0bacaffe",
   "metadata": {},
   "outputs": [],
   "source": [
    "def get_protein_groundings(df):\n",
    "    \"\"\"Return all HGNC IDs derived from the data frame.\"\"\"\n",
    "    groundings = set()\n",
    "    for index, row in df.iterrows():\n",
    "        groundings.add(('HGNC', row['HGNC']))\n",
    "    return sorted(groundings)"
   ]
  },
  {
   "cell_type": "code",
   "execution_count": 6,
   "id": "2b8e4124-e577-43af-b60b-912bfa266bb2",
   "metadata": {},
   "outputs": [],
   "source": [
    "def query_indra_subnetwork(groundings):\n",
    "    \"\"\"Return a list INDRA subnetwork relations based on a list of groundings.\"\"\"\n",
    "    res = requests.post(\n",
    "        'https://discovery.indra.bio/api/indra_subnetwork_relations',\n",
    "        json={'nodes': groundings}\n",
    "    )\n",
    "    return res.json()"
   ]
  },
  {
   "cell_type": "code",
   "execution_count": 7,
   "id": "35e368e1",
   "metadata": {},
   "outputs": [],
   "source": [
    "pandas_df = construct_df(DATASET_PATH)\n",
    "groundings = get_protein_groundings(pandas_df)\n",
    "subnetwork_relations = query_indra_subnetwork(groundings)"
   ]
  },
  {
   "cell_type": "code",
   "execution_count": 8,
   "id": "5b3055dc",
   "metadata": {},
   "outputs": [
    {
     "data": {
      "text/plain": [
       "{'data': {'belief': 0.65,\n",
       "  'evidence_count': 1,\n",
       "  'has_database_evidence': False,\n",
       "  'has_reader_evidence': True,\n",
       "  'has_retracted_evidence': False,\n",
       "  'medscan_only': False,\n",
       "  'source_counts': '{\"reach\": 1}',\n",
       "  'sparser_only': False,\n",
       "  'stmt_hash': 24950175850600212,\n",
       "  'stmt_json': '{\"type\": \"DecreaseAmount\", \"subj\": {\"name\": \"BRD4\", \"mods\": [{\"mod_type\": \"modification\", \"is_modified\": true}], \"db_refs\": {\"UP\": \"O60885\", \"HGNC\": \"13575\", \"TEXT\": \"Brd4\", \"EGID\": \"23476\"}}, \"obj\": {\"name\": \"BRD2\", \"db_refs\": {\"UP\": \"P25440\", \"HGNC\": \"1103\", \"TEXT\": \"BRD2\", \"EGID\": \"6046\"}}, \"belief\": 0.65, \"evidence\": [{\"source_api\": \"reach\", \"pmid\": \"28931940\", \"text\": \"In this study, we have shown that BRD2 protein expression was not only induced during adipocyte differentiation, but was also reduced by Brd4 shRNA expression at a late stage (8 days after differentiation), but not at an early stage (2 days after differentiation) of adipocyte differentiation in 3T3-L1 adipocytes.\", \"annotations\": {\"found_by\": \"expression_1\", \"agents\": {\"coords\": [[137, 141], [34, 38]]}}, \"epistemics\": {\"direct\": false, \"section_type\": null}, \"text_refs\": {\"PMID\": \"28931940\", \"TRID\": 5489272, \"PMCID\": \"PMC5607256\", \"DOI\": \"10.1038/S41598-017-12342-2\"}, \"source_hash\": 1249814442129642986}], \"id\": \"f5372fce-d26f-45d2-8343-99f23b102d3d\", \"matches_hash\": \"24950175850600212\"}',\n",
       "  'stmt_type': 'DecreaseAmount'},\n",
       " 'rel_type': 'indra_rel',\n",
       " 'source_id': '13575',\n",
       " 'source_ns': 'HGNC',\n",
       " 'target_id': '1103',\n",
       " 'target_ns': 'HGNC'}"
      ]
     },
     "execution_count": 8,
     "metadata": {},
     "output_type": "execute_result"
    }
   ],
   "source": [
    "subnetwork_relations[4]"
   ]
  },
  {
   "cell_type": "markdown",
   "id": "731ef719-cd17-4b3d-9ea1-9d997626e18b",
   "metadata": {},
   "source": [
    "## STEP 2: CONSTRUCT NETWORK FROM INDRA RELATIONS"
   ]
  },
  {
   "cell_type": "code",
   "execution_count": 9,
   "id": "1bd0d6c1-c4b3-4865-993c-9f3f0cfa3657",
   "metadata": {},
   "outputs": [],
   "source": [
    "ev_counts = {\n",
    "    (entry['source_id'], entry['target_id']): entry['data']['evidence_count']\n",
    "    for entry in subnetwork_relations\n",
    "}\n",
    "\n",
    "def initialize_networkx_graph(subnetwork_relations, filter_bidirectional=False):\n",
    "    \"\"\"Return a networkx graph from the INDRA relations.\"\"\"\n",
    "    G = nx.DiGraph()\n",
    "    for entry in subnetwork_relations:\n",
    "        source = entry['source_id']\n",
    "        target = entry['target_id']\n",
    "        \n",
    "        if filter_bidirectional:\n",
    "            # If there is a statement with opposite direction and more evidence\n",
    "            # then we skip this one\n",
    "            if ev_counts[(source, target)] < ev_counts.get((target, source), 0):\n",
    "                continue\n",
    "\n",
    "        # Add nodes to graph\n",
    "        source_name = hgnc_client.get_hgnc_name(source)\n",
    "        target_name = hgnc_client.get_hgnc_name(target)\n",
    "        G.add_node(source, label=source_name)\n",
    "        G.add_node(target, label=target_name)\n",
    "    \n",
    "        # Add the edge to the graph\n",
    "        G.add_edge(\n",
    "            source,\n",
    "            target,\n",
    "            evidence_count=entry['data']['evidence_count'],\n",
    "            belief=entry['data']['belief'],\n",
    "            stmt_type=entry['data']['stmt_type']\n",
    "        )\n",
    "\n",
    "    return G"
   ]
  },
  {
   "cell_type": "code",
   "execution_count": 10,
   "id": "e8e828a8-b6cb-408c-89c8-d433b79c39c0",
   "metadata": {},
   "outputs": [],
   "source": [
    "def find_communities(G, weight='evidence_count'):\n",
    "    \"\"\"Return the communities of a networkx graph using a custom weight attribute.\"\"\"\n",
    "    return nx.community.louvain_communities(G, weight=weight)"
   ]
  },
  {
   "cell_type": "code",
   "execution_count": 11,
   "id": "92b5caa0-dcc1-46ad-a52f-fa2fbda0f111",
   "metadata": {},
   "outputs": [],
   "source": [
    "def generate_node_initial_positions(G, communities):\n",
    "    \"\"\"Return node positions of a networkx graph based on communities.\"\"\"\n",
    "    initial_pos = {}\n",
    "    circle_r = 1\n",
    "    big_r = 1\n",
    "    pi = math.pi\n",
    "    centers = [(math.cos(2 * pi / len(communities) * x) * big_r, math.sin(2 * pi / len(communities) * x) * big_r)\n",
    "               for x in range(0, len(communities))]\n",
    "    for index, nodes in enumerate(communities):\n",
    "        for node in nodes:\n",
    "            alpha = 2 * math.pi * random.random()\n",
    "            r = circle_r * math.sqrt(random.random())\n",
    "            x = r * math.cos(alpha) + centers[index][0]\n",
    "            y = r * math.sin(alpha) + centers[index][1]\n",
    "            initial_pos[node] = [x, y]\n",
    "            nx.set_node_attributes(G, {node: index}, name='community')\n",
    "    \n",
    "    return initial_pos"
   ]
  },
  {
   "cell_type": "code",
   "execution_count": 12,
   "id": "ff704894-9ca5-44c2-b2da-b58af296ad7c",
   "metadata": {},
   "outputs": [],
   "source": [
    "def apply_layout_to_graph(G, initial_pos, k=30, iterations=100, weight='evidence_count'):\n",
    "    \"\"\"Apply custom layout positions to a networkx graph.\"\"\"\n",
    "    pos = nx.spring_layout(G, weight=weight, k=k / math.sqrt(len(G.nodes)), pos=initial_pos, iterations=iterations)\n",
    "    for node in G.nodes():\n",
    "        x = pos[node][0]\n",
    "        y = pos[node][1]\n",
    "        nx.set_node_attributes(G, {node: [x, y]}, name='pos')\n",
    "    return G"
   ]
  },
  {
   "cell_type": "code",
   "execution_count": 13,
   "id": "96dcbc95-649d-449b-8d65-0b7f1bddb746",
   "metadata": {},
   "outputs": [],
   "source": [
    "def apply_gsea_to_graph(G, communities):\n",
    "    \"\"\"Set graph node attributes reflecting top GO enrichment for each node in a community.\"\"\"\n",
    "    for index, nodes in enumerate(communities):\n",
    "        # Do GSEA and fetch top gene set\n",
    "        gene_list = [hgnc_client.get_hgnc_name(node) for node in nodes]\n",
    "        gene_sets = enrichr(gene_list=gene_list,\n",
    "                            gene_sets=['GO_Biological_Process_2023',\n",
    "                                       'GO_Cellular_Component_2023',\n",
    "                                       'GO_Molecular_Function_2023'],\n",
    "                            organism='Human').results\n",
    "        top_gene_set = (f'{gene_sets[\"Term\"][0]} w/ p-value '\n",
    "                        f'{str(gene_sets[\"Adjusted P-value\"][0])}')\n",
    "        for node in nodes:\n",
    "            nx.set_node_attributes(G, {node: top_gene_set}, name='gsea')"
   ]
  },
  {
   "cell_type": "code",
   "execution_count": 14,
   "id": "7e7c8a05-f9c4-4ab5-adf1-7e9cc8c30557",
   "metadata": {},
   "outputs": [],
   "source": [
    "def construct_networkx_graph(subnetwork_relations):\n",
    "    \"\"\"Return a custom networkx graph from INDRA subnetwork relations.\"\"\"\n",
    "    G = initialize_networkx_graph(subnetwork_relations)\n",
    "    communities = find_communities(G)\n",
    "    initial_pos = generate_node_initial_positions(G, communities)\n",
    "    apply_layout_to_graph(G, initial_pos)\n",
    "    apply_gsea_to_graph(G, communities)\n",
    "    return G\n",
    "\n",
    "\n",
    "G = construct_networkx_graph(subnetwork_relations)"
   ]
  },
  {
   "cell_type": "code",
   "execution_count": 15,
   "id": "415cc963-7f70-4862-b3bc-0af147d2df7c",
   "metadata": {},
   "outputs": [
    {
     "data": {
      "text/plain": [
       "{'label': 'BRD4',\n",
       " 'community': 0,\n",
       " 'pos': [0.9395495999755249, -0.20174452430318776],\n",
       " 'gsea': 'rRNA Base Methylation (GO:0070475) w/ p-value 0.0221614275546731'}"
      ]
     },
     "execution_count": 15,
     "metadata": {},
     "output_type": "execute_result"
    }
   ],
   "source": [
    "G.nodes['13575']"
   ]
  },
  {
   "cell_type": "markdown",
   "id": "44dff699-8049-4d1f-837a-04a4b74cc73d",
   "metadata": {},
   "source": [
    "## STEP 3: GENERATE VISUALIZATION"
   ]
  },
  {
   "cell_type": "code",
   "execution_count": 16,
   "id": "992748fd-b234-44a0-aeed-2d30b6931bd1",
   "metadata": {},
   "outputs": [],
   "source": [
    "def construct_arrows(G):\n",
    "    \"\"\"Return list of directed edges for network visualization.\"\"\"\n",
    "    arrow_list = []\n",
    "    for edge in G.edges():\n",
    "        x0, y0 = G.nodes[edge[0]]['pos']\n",
    "        x1, y1 = G.nodes[edge[1]]['pos']\n",
    "\n",
    "        arrow = go.layout.Annotation(dict(\n",
    "            x=x0,\n",
    "            y=y0,\n",
    "            xref=\"x\", yref=\"y\",\n",
    "            showarrow=True,\n",
    "            axref=\"x\", ayref='y',\n",
    "            ax=x1,\n",
    "            ay=y1,\n",
    "            arrowhead=3,\n",
    "            arrowwidth=min(5, G.edges[edge]['evidence_count']),\n",
    "            arrowcolor='lightgreen')\n",
    "        )\n",
    "\n",
    "        arrow_list.append(arrow)\n",
    "    return arrow_list"
   ]
  },
  {
   "cell_type": "code",
   "execution_count": 17,
   "id": "6218281a-0ec0-4ba8-bdca-fbc6c2dd7827",
   "metadata": {},
   "outputs": [],
   "source": [
    "def construct_arrow_labels(G):\n",
    "    \"\"\"Return custom edge labels for network visualization.\"\"\"\n",
    "    mnode_x, mnode_y, mnode_txt = [], [], []\n",
    "    for edge in G.edges():\n",
    "        x0, y0 = G.nodes[edge[0]]['pos']\n",
    "        x1, y1 = G.nodes[edge[1]]['pos']\n",
    "        name0 = G.nodes[edge[0]]['label']\n",
    "        name1 = G.nodes[edge[1]]['label']\n",
    "\n",
    "        mnode_x.extend([(x0 + x1) / 2])\n",
    "        mnode_y.extend([(y0 + y1) / 2])\n",
    "        mnode_txt.extend([f'{name0}->{name1} evidence count: {G.edges[edge][\"evidence_count\"]}'])\n",
    "\n",
    "    mnode_trace = go.Scatter(\n",
    "        x=mnode_x, y=mnode_y,\n",
    "        mode=\"markers\",\n",
    "        showlegend=False,\n",
    "        hovertext=mnode_txt,\n",
    "        hovertemplate=\"Edge %{hovertext}<extra></extra>\",\n",
    "        marker=go.scatter.Marker(opacity=0)\n",
    "    )\n",
    "    \n",
    "    return mnode_trace"
   ]
  },
  {
   "cell_type": "code",
   "execution_count": 18,
   "id": "2e102d0e-4258-4247-99b5-4c105ec598c6",
   "metadata": {},
   "outputs": [],
   "source": [
    "def construct_node_trace(G):\n",
    "    \"\"\"Return custom nodes for network visualization\"\"\"\n",
    "    node_x = []\n",
    "    node_y = []\n",
    "    for node in G.nodes():\n",
    "        x, y = G.nodes[node]['pos']\n",
    "        node_x.append(x)\n",
    "        node_y.append(y)\n",
    "\n",
    "    node_trace = go.Scatter(\n",
    "        x=node_x, y=node_y,\n",
    "        mode='markers+text',\n",
    "        hoverinfo='text',\n",
    "        text=[data['label'] for node, data in list(G.nodes(data=True))],\n",
    "        textposition=\"bottom center\",\n",
    "        marker=dict(\n",
    "            showscale=True,\n",
    "            colorscale='YlGnBu',\n",
    "            reversescale=True,\n",
    "            color=[],\n",
    "            size=30,\n",
    "            colorbar=dict(\n",
    "                thickness=15,\n",
    "                title='Cluster ID',\n",
    "                xanchor='left',\n",
    "                titleside='right'\n",
    "            ),\n",
    "            line_width=2))\n",
    "\n",
    "    node_colors = []\n",
    "    node_text = []\n",
    "    for node in G.nodes():\n",
    "        node_text.append(G.nodes[node]['gsea'])\n",
    "        node_colors.append(G.nodes[node]['community'])\n",
    "\n",
    "    node_trace.marker.color = node_colors\n",
    "    node_trace.hovertext = node_text\n",
    "\n",
    "    return node_trace"
   ]
  },
  {
   "cell_type": "code",
   "execution_count": 27,
   "id": "b20f5690-93e6-45a9-95fd-9fe8abbe0a09",
   "metadata": {},
   "outputs": [],
   "source": [
    "def show_plotly_graph(nodes, arrows):\n",
    "    \"\"\"Visualize the network based on the list of nodes and arrows.\"\"\"\n",
    "    fig = go.Figure(data=nodes,\n",
    "                    layout=go.Layout(\n",
    "                        title='<br>Network graph made with Python',\n",
    "                        font=dict(\n",
    "                            family=\"Courier New, monospace\",\n",
    "                            size=10,\n",
    "                            color=\"Black\"\n",
    "                        ),\n",
    "                        annotations=arrows,\n",
    "                        showlegend=False,\n",
    "                        hovermode='closest',\n",
    "                        margin=dict(b=20, l=5, r=5, t=40),\n",
    "                        xaxis=dict(showgrid=False, zeroline=False, showticklabels=False),\n",
    "                        yaxis=dict(showgrid=False, zeroline=False, showticklabels=False))\n",
    "                    )\n",
    "    fig.show()"
   ]
  },
  {
   "cell_type": "code",
   "execution_count": 28,
   "id": "98eb85d1-80c8-4cb9-a451-1c68bce6bf47",
   "metadata": {},
   "outputs": [],
   "source": [
    "def create_plotly_graph(G):\n",
    "    \"\"\"Generate and visualize a custom network from a networkx graph.\"\"\"\n",
    "    edges = construct_arrows(G)\n",
    "    edge_midpoints = construct_arrow_labels(G)\n",
    "    nodes = construct_node_trace(G)\n",
    "    show_plotly_graph([edge_midpoints, nodes], edges)"
   ]
  },
  {
   "cell_type": "code",
   "execution_count": 29,
   "id": "f95bdab6-07fb-4a4c-b6ee-cc753215ff34",
   "metadata": {},
   "outputs": [
    {
     "data": {
      "application/vnd.plotly.v1+json": {
       "config": {
        "plotlyServerURL": "https://plot.ly"
       },
       "data": [
        {
         "hovertemplate": "Edge %{hovertext}<extra></extra>",
         "hovertext": [
          "BRD4->BRD2 evidence count: 2",
          "BRD4->NOP2 evidence count: 6",
          "BRD4->BRD3 evidence count: 5",
          "BRD2->BRD4 evidence count: 2",
          "BRD2->BRD3 evidence count: 1",
          "BRD3->BRD2 evidence count: 1",
          "BRD3->BRD4 evidence count: 5",
          "KRR1->NOP2 evidence count: 1",
          "KRR1->UTP15 evidence count: 1",
          "NOP2->BRD4 evidence count: 6",
          "NOP2->KRR1 evidence count: 1",
          "NOP2->GTPBP4 evidence count: 2",
          "NOP2->CEBPZ evidence count: 1",
          "CEBPZ->NOP2 evidence count: 1",
          "CEBPZ->GTPBP4 evidence count: 1",
          "GTPBP4->NOP2 evidence count: 2",
          "GTPBP4->WDR12 evidence count: 1",
          "GTPBP4->CEBPZ evidence count: 1",
          "KHSRP->FUBP3 evidence count: 1",
          "KHSRP->DAZAP1 evidence count: 1",
          "KHSRP->HNRNPD evidence count: 9",
          "KHSRP->TIA1 evidence count: 1",
          "FUBP3->DAZAP1 evidence count: 1",
          "FUBP3->KHSRP evidence count: 1",
          "FUBP3->HNRNPD evidence count: 1",
          "FUBP3->QKI evidence count: 4",
          "HNRNPD->FUBP3 evidence count: 1",
          "HNRNPD->KHSRP evidence count: 9",
          "HNRNPD->HEATR3 evidence count: 1",
          "HNRNPD->TIA1 evidence count: 6",
          "DAZAP1->FUBP3 evidence count: 1",
          "DAZAP1->KHSRP evidence count: 1",
          "DAZAP1->TIA1 evidence count: 1",
          "QKI->FUBP3 evidence count: 4",
          "UTP15->WDR43 evidence count: 5",
          "UTP15->KRR1 evidence count: 1",
          "WDR43->UTP15 evidence count: 5",
          "TIA1->DAZAP1 evidence count: 1",
          "TIA1->KHSRP evidence count: 1",
          "TIA1->HNRNPD evidence count: 6",
          "HEATR3->HNRNPD evidence count: 1",
          "WDR12->GTPBP4 evidence count: 1"
         ],
         "marker": {
          "opacity": 0
         },
         "mode": "markers",
         "showlegend": false,
         "type": "scatter",
         "x": [
          0.9697747999877624,
          0.7736045561298126,
          0.8919389633999862,
          0.9697747999877624,
          0.9221641634122237,
          0.9221641634122237,
          0.8919389633999862,
          0.2953717584047317,
          0.20824298445613199,
          0.7736045561298126,
          0.2953717584047317,
          0.6766847535954437,
          0.5675589520987626,
          0.5675589520987626,
          0.6365841934101061,
          0.6766847535954437,
          0.36373051049189403,
          0.6365841934101061,
          -0.6017487436101913,
          -0.6890374509599955,
          -0.539797484358339,
          -0.575883397768459,
          -0.8708323872572974,
          -0.6017487436101913,
          -0.7215924206556408,
          -0.8000912975591307,
          -0.7215924206556408,
          -0.539797484358339,
          -0.7761148871879446,
          -0.6957270748139085,
          -0.8708323872572974,
          -0.6890374509599955,
          -0.844967041415565,
          -0.8000912975591307,
          0.3163797015657608,
          0.20824298445613199,
          0.3163797015657608,
          -0.844967041415565,
          -0.575883397768459,
          -0.6957270748139085,
          -0.7761148871879446,
          0.36373051049189403
         ],
         "y": [
          -0.06627961429564422,
          -0.07735862228520098,
          -0.34474957520929717,
          -0.06627961429564422,
          -0.20928466520175362,
          -0.20928466520175362,
          -0.34474957520929717,
          -0.41332356693160704,
          -0.8660282994695369,
          -0.07735862228520098,
          -0.41332356693160704,
          0.3179625285936906,
          0.46966220161443956,
          0.46966220161443956,
          0.7405974504753443,
          0.3179625285936906,
          0.7611599931043707,
          0.7405974504753443,
          -0.019577399908590254,
          0.32800284719799055,
          0.5004749333325279,
          0.42841359409113855,
          -0.10237723041926944,
          -0.019577399908590254,
          0.07009485571526791,
          -0.3978336582077393,
          0.07009485571526791,
          0.5004749333325279,
          0.27549549631946985,
          0.5180858497149967,
          -0.10237723041926944,
          0.32800284719799055,
          0.34561376358045937,
          -0.3978336582077393,
          -0.9125050011139877,
          -0.8660282994695369,
          -0.9125050011139877,
          0.34561376358045937,
          0.42841359409113855,
          0.5180858497149967,
          0.27549549631946985,
          0.7611599931043707
         ]
        },
        {
         "hoverinfo": "text",
         "hovertext": [
          "rRNA Base Methylation (GO:0070475) w/ p-value 0.0221614275546731",
          "rRNA Base Methylation (GO:0070475) w/ p-value 0.0221614275546731",
          "rRNA Base Methylation (GO:0070475) w/ p-value 0.0221614275546731",
          "Ribosomal Small Subunit Biogenesis (GO:0042274) w/ p-value 1.2148964030328515e-06",
          "rRNA Base Methylation (GO:0070475) w/ p-value 0.0221614275546731",
          "Ribosomal Large Subunit Biogenesis (GO:0042273) w/ p-value 0.0006428303631987923",
          "Ribosomal Large Subunit Biogenesis (GO:0042273) w/ p-value 0.0006428303631987923",
          "Regulation Of mRNA Splicing, Via Spliceosome (GO:0048024) w/ p-value 0.0147662288010609",
          "Regulation Of mRNA Processing (GO:0050684) w/ p-value 0.0279722900850615",
          "Regulation Of mRNA Splicing, Via Spliceosome (GO:0048024) w/ p-value 0.0147662288010609",
          "Regulation Of mRNA Splicing, Via Spliceosome (GO:0048024) w/ p-value 0.0147662288010609",
          "Regulation Of mRNA Processing (GO:0050684) w/ p-value 0.0279722900850615",
          "Ribosomal Small Subunit Biogenesis (GO:0042274) w/ p-value 1.2148964030328515e-06",
          "Ribosomal Small Subunit Biogenesis (GO:0042274) w/ p-value 1.2148964030328515e-06",
          "Regulation Of mRNA Splicing, Via Spliceosome (GO:0048024) w/ p-value 0.0147662288010609",
          "Regulation Of mRNA Splicing, Via Spliceosome (GO:0048024) w/ p-value 0.0147662288010609",
          "Ribosomal Large Subunit Biogenesis (GO:0042273) w/ p-value 0.0006428303631987923"
         ],
         "marker": {
          "color": [
           0,
           0,
           0,
           4,
           0,
           1,
           1,
           2,
           3,
           2,
           2,
           3,
           4,
           4,
           2,
           2,
           1
          ],
          "colorbar": {
           "thickness": 15,
           "title": {
            "side": "right",
            "text": "Cluster ID"
           },
           "xanchor": "left"
          },
          "colorscale": [
           [
            0,
            "rgb(255,255,217)"
           ],
           [
            0.125,
            "rgb(237,248,177)"
           ],
           [
            0.25,
            "rgb(199,233,180)"
           ],
           [
            0.375,
            "rgb(127,205,187)"
           ],
           [
            0.5,
            "rgb(65,182,196)"
           ],
           [
            0.625,
            "rgb(29,145,192)"
           ],
           [
            0.75,
            "rgb(34,94,168)"
           ],
           [
            0.875,
            "rgb(37,52,148)"
           ],
           [
            1,
            "rgb(8,29,88)"
           ]
          ],
          "line": {
           "width": 2
          },
          "reversescale": true,
          "showscale": true,
          "size": 30
         },
         "mode": "markers+text",
         "text": [
          "BRD4",
          "BRD2",
          "BRD3",
          "KRR1",
          "NOP2",
          "CEBPZ",
          "GTPBP4",
          "KHSRP",
          "FUBP3",
          "HNRNPD",
          "DAZAP1",
          "QKI",
          "UTP15",
          "WDR43",
          "TIA1",
          "HEATR3",
          "WDR12"
         ],
         "textposition": "bottom center",
         "type": "scatter",
         "x": [
          0.9395495999755249,
          0.9999999999999999,
          0.8443283268244476,
          -0.016915995474636875,
          0.6076595122841002,
          0.527458391913425,
          0.7457099949067871,
          -0.4199538073128894,
          -0.7835436799074931,
          -0.6596411614037885,
          -0.9581210946071016,
          -0.8166389152107683,
          0.4334019643869008,
          0.19935743874462075,
          -0.7318129882240285,
          -0.8925886129721009,
          -0.01824897392299907
         ],
         "y": [
          -0.20174452430318776,
          0.06918529571189934,
          -0.4877546261154066,
          -0.873674413596,
          0.047027279732785816,
          0.8922971234960932,
          0.5888977774545954,
          0.41080267770866974,
          -0.44995747752585025,
          0.5901471889563861,
          0.24520301668731137,
          -0.3457098388896284,
          -0.8583821853430738,
          -0.9666278168849016,
          0.4460245104736073,
          -0.03915619631744637,
          0.933422208754146
         ]
        }
       ],
       "layout": {
        "annotations": [
         {
          "arrowcolor": "lightgreen",
          "arrowhead": 3,
          "arrowwidth": 2,
          "ax": 0.9999999999999999,
          "axref": "x",
          "ay": 0.06918529571189934,
          "ayref": "y",
          "showarrow": true,
          "x": 0.9395495999755249,
          "xref": "x",
          "y": -0.20174452430318776,
          "yref": "y"
         },
         {
          "arrowcolor": "lightgreen",
          "arrowhead": 3,
          "arrowwidth": 5,
          "ax": 0.6076595122841002,
          "axref": "x",
          "ay": 0.047027279732785816,
          "ayref": "y",
          "showarrow": true,
          "x": 0.9395495999755249,
          "xref": "x",
          "y": -0.20174452430318776,
          "yref": "y"
         },
         {
          "arrowcolor": "lightgreen",
          "arrowhead": 3,
          "arrowwidth": 5,
          "ax": 0.8443283268244476,
          "axref": "x",
          "ay": -0.4877546261154066,
          "ayref": "y",
          "showarrow": true,
          "x": 0.9395495999755249,
          "xref": "x",
          "y": -0.20174452430318776,
          "yref": "y"
         },
         {
          "arrowcolor": "lightgreen",
          "arrowhead": 3,
          "arrowwidth": 2,
          "ax": 0.9395495999755249,
          "axref": "x",
          "ay": -0.20174452430318776,
          "ayref": "y",
          "showarrow": true,
          "x": 0.9999999999999999,
          "xref": "x",
          "y": 0.06918529571189934,
          "yref": "y"
         },
         {
          "arrowcolor": "lightgreen",
          "arrowhead": 3,
          "arrowwidth": 1,
          "ax": 0.8443283268244476,
          "axref": "x",
          "ay": -0.4877546261154066,
          "ayref": "y",
          "showarrow": true,
          "x": 0.9999999999999999,
          "xref": "x",
          "y": 0.06918529571189934,
          "yref": "y"
         },
         {
          "arrowcolor": "lightgreen",
          "arrowhead": 3,
          "arrowwidth": 1,
          "ax": 0.9999999999999999,
          "axref": "x",
          "ay": 0.06918529571189934,
          "ayref": "y",
          "showarrow": true,
          "x": 0.8443283268244476,
          "xref": "x",
          "y": -0.4877546261154066,
          "yref": "y"
         },
         {
          "arrowcolor": "lightgreen",
          "arrowhead": 3,
          "arrowwidth": 5,
          "ax": 0.9395495999755249,
          "axref": "x",
          "ay": -0.20174452430318776,
          "ayref": "y",
          "showarrow": true,
          "x": 0.8443283268244476,
          "xref": "x",
          "y": -0.4877546261154066,
          "yref": "y"
         },
         {
          "arrowcolor": "lightgreen",
          "arrowhead": 3,
          "arrowwidth": 1,
          "ax": 0.6076595122841002,
          "axref": "x",
          "ay": 0.047027279732785816,
          "ayref": "y",
          "showarrow": true,
          "x": -0.016915995474636875,
          "xref": "x",
          "y": -0.873674413596,
          "yref": "y"
         },
         {
          "arrowcolor": "lightgreen",
          "arrowhead": 3,
          "arrowwidth": 1,
          "ax": 0.4334019643869008,
          "axref": "x",
          "ay": -0.8583821853430738,
          "ayref": "y",
          "showarrow": true,
          "x": -0.016915995474636875,
          "xref": "x",
          "y": -0.873674413596,
          "yref": "y"
         },
         {
          "arrowcolor": "lightgreen",
          "arrowhead": 3,
          "arrowwidth": 5,
          "ax": 0.9395495999755249,
          "axref": "x",
          "ay": -0.20174452430318776,
          "ayref": "y",
          "showarrow": true,
          "x": 0.6076595122841002,
          "xref": "x",
          "y": 0.047027279732785816,
          "yref": "y"
         },
         {
          "arrowcolor": "lightgreen",
          "arrowhead": 3,
          "arrowwidth": 1,
          "ax": -0.016915995474636875,
          "axref": "x",
          "ay": -0.873674413596,
          "ayref": "y",
          "showarrow": true,
          "x": 0.6076595122841002,
          "xref": "x",
          "y": 0.047027279732785816,
          "yref": "y"
         },
         {
          "arrowcolor": "lightgreen",
          "arrowhead": 3,
          "arrowwidth": 2,
          "ax": 0.7457099949067871,
          "axref": "x",
          "ay": 0.5888977774545954,
          "ayref": "y",
          "showarrow": true,
          "x": 0.6076595122841002,
          "xref": "x",
          "y": 0.047027279732785816,
          "yref": "y"
         },
         {
          "arrowcolor": "lightgreen",
          "arrowhead": 3,
          "arrowwidth": 1,
          "ax": 0.527458391913425,
          "axref": "x",
          "ay": 0.8922971234960932,
          "ayref": "y",
          "showarrow": true,
          "x": 0.6076595122841002,
          "xref": "x",
          "y": 0.047027279732785816,
          "yref": "y"
         },
         {
          "arrowcolor": "lightgreen",
          "arrowhead": 3,
          "arrowwidth": 1,
          "ax": 0.6076595122841002,
          "axref": "x",
          "ay": 0.047027279732785816,
          "ayref": "y",
          "showarrow": true,
          "x": 0.527458391913425,
          "xref": "x",
          "y": 0.8922971234960932,
          "yref": "y"
         },
         {
          "arrowcolor": "lightgreen",
          "arrowhead": 3,
          "arrowwidth": 1,
          "ax": 0.7457099949067871,
          "axref": "x",
          "ay": 0.5888977774545954,
          "ayref": "y",
          "showarrow": true,
          "x": 0.527458391913425,
          "xref": "x",
          "y": 0.8922971234960932,
          "yref": "y"
         },
         {
          "arrowcolor": "lightgreen",
          "arrowhead": 3,
          "arrowwidth": 2,
          "ax": 0.6076595122841002,
          "axref": "x",
          "ay": 0.047027279732785816,
          "ayref": "y",
          "showarrow": true,
          "x": 0.7457099949067871,
          "xref": "x",
          "y": 0.5888977774545954,
          "yref": "y"
         },
         {
          "arrowcolor": "lightgreen",
          "arrowhead": 3,
          "arrowwidth": 1,
          "ax": -0.01824897392299907,
          "axref": "x",
          "ay": 0.933422208754146,
          "ayref": "y",
          "showarrow": true,
          "x": 0.7457099949067871,
          "xref": "x",
          "y": 0.5888977774545954,
          "yref": "y"
         },
         {
          "arrowcolor": "lightgreen",
          "arrowhead": 3,
          "arrowwidth": 1,
          "ax": 0.527458391913425,
          "axref": "x",
          "ay": 0.8922971234960932,
          "ayref": "y",
          "showarrow": true,
          "x": 0.7457099949067871,
          "xref": "x",
          "y": 0.5888977774545954,
          "yref": "y"
         },
         {
          "arrowcolor": "lightgreen",
          "arrowhead": 3,
          "arrowwidth": 1,
          "ax": -0.7835436799074931,
          "axref": "x",
          "ay": -0.44995747752585025,
          "ayref": "y",
          "showarrow": true,
          "x": -0.4199538073128894,
          "xref": "x",
          "y": 0.41080267770866974,
          "yref": "y"
         },
         {
          "arrowcolor": "lightgreen",
          "arrowhead": 3,
          "arrowwidth": 1,
          "ax": -0.9581210946071016,
          "axref": "x",
          "ay": 0.24520301668731137,
          "ayref": "y",
          "showarrow": true,
          "x": -0.4199538073128894,
          "xref": "x",
          "y": 0.41080267770866974,
          "yref": "y"
         },
         {
          "arrowcolor": "lightgreen",
          "arrowhead": 3,
          "arrowwidth": 5,
          "ax": -0.6596411614037885,
          "axref": "x",
          "ay": 0.5901471889563861,
          "ayref": "y",
          "showarrow": true,
          "x": -0.4199538073128894,
          "xref": "x",
          "y": 0.41080267770866974,
          "yref": "y"
         },
         {
          "arrowcolor": "lightgreen",
          "arrowhead": 3,
          "arrowwidth": 1,
          "ax": -0.7318129882240285,
          "axref": "x",
          "ay": 0.4460245104736073,
          "ayref": "y",
          "showarrow": true,
          "x": -0.4199538073128894,
          "xref": "x",
          "y": 0.41080267770866974,
          "yref": "y"
         },
         {
          "arrowcolor": "lightgreen",
          "arrowhead": 3,
          "arrowwidth": 1,
          "ax": -0.9581210946071016,
          "axref": "x",
          "ay": 0.24520301668731137,
          "ayref": "y",
          "showarrow": true,
          "x": -0.7835436799074931,
          "xref": "x",
          "y": -0.44995747752585025,
          "yref": "y"
         },
         {
          "arrowcolor": "lightgreen",
          "arrowhead": 3,
          "arrowwidth": 1,
          "ax": -0.4199538073128894,
          "axref": "x",
          "ay": 0.41080267770866974,
          "ayref": "y",
          "showarrow": true,
          "x": -0.7835436799074931,
          "xref": "x",
          "y": -0.44995747752585025,
          "yref": "y"
         },
         {
          "arrowcolor": "lightgreen",
          "arrowhead": 3,
          "arrowwidth": 1,
          "ax": -0.6596411614037885,
          "axref": "x",
          "ay": 0.5901471889563861,
          "ayref": "y",
          "showarrow": true,
          "x": -0.7835436799074931,
          "xref": "x",
          "y": -0.44995747752585025,
          "yref": "y"
         },
         {
          "arrowcolor": "lightgreen",
          "arrowhead": 3,
          "arrowwidth": 4,
          "ax": -0.8166389152107683,
          "axref": "x",
          "ay": -0.3457098388896284,
          "ayref": "y",
          "showarrow": true,
          "x": -0.7835436799074931,
          "xref": "x",
          "y": -0.44995747752585025,
          "yref": "y"
         },
         {
          "arrowcolor": "lightgreen",
          "arrowhead": 3,
          "arrowwidth": 1,
          "ax": -0.7835436799074931,
          "axref": "x",
          "ay": -0.44995747752585025,
          "ayref": "y",
          "showarrow": true,
          "x": -0.6596411614037885,
          "xref": "x",
          "y": 0.5901471889563861,
          "yref": "y"
         },
         {
          "arrowcolor": "lightgreen",
          "arrowhead": 3,
          "arrowwidth": 5,
          "ax": -0.4199538073128894,
          "axref": "x",
          "ay": 0.41080267770866974,
          "ayref": "y",
          "showarrow": true,
          "x": -0.6596411614037885,
          "xref": "x",
          "y": 0.5901471889563861,
          "yref": "y"
         },
         {
          "arrowcolor": "lightgreen",
          "arrowhead": 3,
          "arrowwidth": 1,
          "ax": -0.8925886129721009,
          "axref": "x",
          "ay": -0.03915619631744637,
          "ayref": "y",
          "showarrow": true,
          "x": -0.6596411614037885,
          "xref": "x",
          "y": 0.5901471889563861,
          "yref": "y"
         },
         {
          "arrowcolor": "lightgreen",
          "arrowhead": 3,
          "arrowwidth": 5,
          "ax": -0.7318129882240285,
          "axref": "x",
          "ay": 0.4460245104736073,
          "ayref": "y",
          "showarrow": true,
          "x": -0.6596411614037885,
          "xref": "x",
          "y": 0.5901471889563861,
          "yref": "y"
         },
         {
          "arrowcolor": "lightgreen",
          "arrowhead": 3,
          "arrowwidth": 1,
          "ax": -0.7835436799074931,
          "axref": "x",
          "ay": -0.44995747752585025,
          "ayref": "y",
          "showarrow": true,
          "x": -0.9581210946071016,
          "xref": "x",
          "y": 0.24520301668731137,
          "yref": "y"
         },
         {
          "arrowcolor": "lightgreen",
          "arrowhead": 3,
          "arrowwidth": 1,
          "ax": -0.4199538073128894,
          "axref": "x",
          "ay": 0.41080267770866974,
          "ayref": "y",
          "showarrow": true,
          "x": -0.9581210946071016,
          "xref": "x",
          "y": 0.24520301668731137,
          "yref": "y"
         },
         {
          "arrowcolor": "lightgreen",
          "arrowhead": 3,
          "arrowwidth": 1,
          "ax": -0.7318129882240285,
          "axref": "x",
          "ay": 0.4460245104736073,
          "ayref": "y",
          "showarrow": true,
          "x": -0.9581210946071016,
          "xref": "x",
          "y": 0.24520301668731137,
          "yref": "y"
         },
         {
          "arrowcolor": "lightgreen",
          "arrowhead": 3,
          "arrowwidth": 4,
          "ax": -0.7835436799074931,
          "axref": "x",
          "ay": -0.44995747752585025,
          "ayref": "y",
          "showarrow": true,
          "x": -0.8166389152107683,
          "xref": "x",
          "y": -0.3457098388896284,
          "yref": "y"
         },
         {
          "arrowcolor": "lightgreen",
          "arrowhead": 3,
          "arrowwidth": 5,
          "ax": 0.19935743874462075,
          "axref": "x",
          "ay": -0.9666278168849016,
          "ayref": "y",
          "showarrow": true,
          "x": 0.4334019643869008,
          "xref": "x",
          "y": -0.8583821853430738,
          "yref": "y"
         },
         {
          "arrowcolor": "lightgreen",
          "arrowhead": 3,
          "arrowwidth": 1,
          "ax": -0.016915995474636875,
          "axref": "x",
          "ay": -0.873674413596,
          "ayref": "y",
          "showarrow": true,
          "x": 0.4334019643869008,
          "xref": "x",
          "y": -0.8583821853430738,
          "yref": "y"
         },
         {
          "arrowcolor": "lightgreen",
          "arrowhead": 3,
          "arrowwidth": 5,
          "ax": 0.4334019643869008,
          "axref": "x",
          "ay": -0.8583821853430738,
          "ayref": "y",
          "showarrow": true,
          "x": 0.19935743874462075,
          "xref": "x",
          "y": -0.9666278168849016,
          "yref": "y"
         },
         {
          "arrowcolor": "lightgreen",
          "arrowhead": 3,
          "arrowwidth": 1,
          "ax": -0.9581210946071016,
          "axref": "x",
          "ay": 0.24520301668731137,
          "ayref": "y",
          "showarrow": true,
          "x": -0.7318129882240285,
          "xref": "x",
          "y": 0.4460245104736073,
          "yref": "y"
         },
         {
          "arrowcolor": "lightgreen",
          "arrowhead": 3,
          "arrowwidth": 1,
          "ax": -0.4199538073128894,
          "axref": "x",
          "ay": 0.41080267770866974,
          "ayref": "y",
          "showarrow": true,
          "x": -0.7318129882240285,
          "xref": "x",
          "y": 0.4460245104736073,
          "yref": "y"
         },
         {
          "arrowcolor": "lightgreen",
          "arrowhead": 3,
          "arrowwidth": 5,
          "ax": -0.6596411614037885,
          "axref": "x",
          "ay": 0.5901471889563861,
          "ayref": "y",
          "showarrow": true,
          "x": -0.7318129882240285,
          "xref": "x",
          "y": 0.4460245104736073,
          "yref": "y"
         },
         {
          "arrowcolor": "lightgreen",
          "arrowhead": 3,
          "arrowwidth": 1,
          "ax": -0.6596411614037885,
          "axref": "x",
          "ay": 0.5901471889563861,
          "ayref": "y",
          "showarrow": true,
          "x": -0.8925886129721009,
          "xref": "x",
          "y": -0.03915619631744637,
          "yref": "y"
         },
         {
          "arrowcolor": "lightgreen",
          "arrowhead": 3,
          "arrowwidth": 1,
          "ax": 0.7457099949067871,
          "axref": "x",
          "ay": 0.5888977774545954,
          "ayref": "y",
          "showarrow": true,
          "x": -0.01824897392299907,
          "xref": "x",
          "y": 0.933422208754146,
          "yref": "y"
         }
        ],
        "font": {
         "color": "Black",
         "family": "Courier New, monospace",
         "size": 10
        },
        "hovermode": "closest",
        "margin": {
         "b": 20,
         "l": 5,
         "r": 5,
         "t": 40
        },
        "showlegend": false,
        "template": {
         "data": {
          "bar": [
           {
            "error_x": {
             "color": "#2a3f5f"
            },
            "error_y": {
             "color": "#2a3f5f"
            },
            "marker": {
             "line": {
              "color": "#E5ECF6",
              "width": 0.5
             },
             "pattern": {
              "fillmode": "overlay",
              "size": 10,
              "solidity": 0.2
             }
            },
            "type": "bar"
           }
          ],
          "barpolar": [
           {
            "marker": {
             "line": {
              "color": "#E5ECF6",
              "width": 0.5
             },
             "pattern": {
              "fillmode": "overlay",
              "size": 10,
              "solidity": 0.2
             }
            },
            "type": "barpolar"
           }
          ],
          "carpet": [
           {
            "aaxis": {
             "endlinecolor": "#2a3f5f",
             "gridcolor": "white",
             "linecolor": "white",
             "minorgridcolor": "white",
             "startlinecolor": "#2a3f5f"
            },
            "baxis": {
             "endlinecolor": "#2a3f5f",
             "gridcolor": "white",
             "linecolor": "white",
             "minorgridcolor": "white",
             "startlinecolor": "#2a3f5f"
            },
            "type": "carpet"
           }
          ],
          "choropleth": [
           {
            "colorbar": {
             "outlinewidth": 0,
             "ticks": ""
            },
            "type": "choropleth"
           }
          ],
          "contour": [
           {
            "colorbar": {
             "outlinewidth": 0,
             "ticks": ""
            },
            "colorscale": [
             [
              0,
              "#0d0887"
             ],
             [
              0.1111111111111111,
              "#46039f"
             ],
             [
              0.2222222222222222,
              "#7201a8"
             ],
             [
              0.3333333333333333,
              "#9c179e"
             ],
             [
              0.4444444444444444,
              "#bd3786"
             ],
             [
              0.5555555555555556,
              "#d8576b"
             ],
             [
              0.6666666666666666,
              "#ed7953"
             ],
             [
              0.7777777777777778,
              "#fb9f3a"
             ],
             [
              0.8888888888888888,
              "#fdca26"
             ],
             [
              1,
              "#f0f921"
             ]
            ],
            "type": "contour"
           }
          ],
          "contourcarpet": [
           {
            "colorbar": {
             "outlinewidth": 0,
             "ticks": ""
            },
            "type": "contourcarpet"
           }
          ],
          "heatmap": [
           {
            "colorbar": {
             "outlinewidth": 0,
             "ticks": ""
            },
            "colorscale": [
             [
              0,
              "#0d0887"
             ],
             [
              0.1111111111111111,
              "#46039f"
             ],
             [
              0.2222222222222222,
              "#7201a8"
             ],
             [
              0.3333333333333333,
              "#9c179e"
             ],
             [
              0.4444444444444444,
              "#bd3786"
             ],
             [
              0.5555555555555556,
              "#d8576b"
             ],
             [
              0.6666666666666666,
              "#ed7953"
             ],
             [
              0.7777777777777778,
              "#fb9f3a"
             ],
             [
              0.8888888888888888,
              "#fdca26"
             ],
             [
              1,
              "#f0f921"
             ]
            ],
            "type": "heatmap"
           }
          ],
          "heatmapgl": [
           {
            "colorbar": {
             "outlinewidth": 0,
             "ticks": ""
            },
            "colorscale": [
             [
              0,
              "#0d0887"
             ],
             [
              0.1111111111111111,
              "#46039f"
             ],
             [
              0.2222222222222222,
              "#7201a8"
             ],
             [
              0.3333333333333333,
              "#9c179e"
             ],
             [
              0.4444444444444444,
              "#bd3786"
             ],
             [
              0.5555555555555556,
              "#d8576b"
             ],
             [
              0.6666666666666666,
              "#ed7953"
             ],
             [
              0.7777777777777778,
              "#fb9f3a"
             ],
             [
              0.8888888888888888,
              "#fdca26"
             ],
             [
              1,
              "#f0f921"
             ]
            ],
            "type": "heatmapgl"
           }
          ],
          "histogram": [
           {
            "marker": {
             "pattern": {
              "fillmode": "overlay",
              "size": 10,
              "solidity": 0.2
             }
            },
            "type": "histogram"
           }
          ],
          "histogram2d": [
           {
            "colorbar": {
             "outlinewidth": 0,
             "ticks": ""
            },
            "colorscale": [
             [
              0,
              "#0d0887"
             ],
             [
              0.1111111111111111,
              "#46039f"
             ],
             [
              0.2222222222222222,
              "#7201a8"
             ],
             [
              0.3333333333333333,
              "#9c179e"
             ],
             [
              0.4444444444444444,
              "#bd3786"
             ],
             [
              0.5555555555555556,
              "#d8576b"
             ],
             [
              0.6666666666666666,
              "#ed7953"
             ],
             [
              0.7777777777777778,
              "#fb9f3a"
             ],
             [
              0.8888888888888888,
              "#fdca26"
             ],
             [
              1,
              "#f0f921"
             ]
            ],
            "type": "histogram2d"
           }
          ],
          "histogram2dcontour": [
           {
            "colorbar": {
             "outlinewidth": 0,
             "ticks": ""
            },
            "colorscale": [
             [
              0,
              "#0d0887"
             ],
             [
              0.1111111111111111,
              "#46039f"
             ],
             [
              0.2222222222222222,
              "#7201a8"
             ],
             [
              0.3333333333333333,
              "#9c179e"
             ],
             [
              0.4444444444444444,
              "#bd3786"
             ],
             [
              0.5555555555555556,
              "#d8576b"
             ],
             [
              0.6666666666666666,
              "#ed7953"
             ],
             [
              0.7777777777777778,
              "#fb9f3a"
             ],
             [
              0.8888888888888888,
              "#fdca26"
             ],
             [
              1,
              "#f0f921"
             ]
            ],
            "type": "histogram2dcontour"
           }
          ],
          "mesh3d": [
           {
            "colorbar": {
             "outlinewidth": 0,
             "ticks": ""
            },
            "type": "mesh3d"
           }
          ],
          "parcoords": [
           {
            "line": {
             "colorbar": {
              "outlinewidth": 0,
              "ticks": ""
             }
            },
            "type": "parcoords"
           }
          ],
          "pie": [
           {
            "automargin": true,
            "type": "pie"
           }
          ],
          "scatter": [
           {
            "fillpattern": {
             "fillmode": "overlay",
             "size": 10,
             "solidity": 0.2
            },
            "type": "scatter"
           }
          ],
          "scatter3d": [
           {
            "line": {
             "colorbar": {
              "outlinewidth": 0,
              "ticks": ""
             }
            },
            "marker": {
             "colorbar": {
              "outlinewidth": 0,
              "ticks": ""
             }
            },
            "type": "scatter3d"
           }
          ],
          "scattercarpet": [
           {
            "marker": {
             "colorbar": {
              "outlinewidth": 0,
              "ticks": ""
             }
            },
            "type": "scattercarpet"
           }
          ],
          "scattergeo": [
           {
            "marker": {
             "colorbar": {
              "outlinewidth": 0,
              "ticks": ""
             }
            },
            "type": "scattergeo"
           }
          ],
          "scattergl": [
           {
            "marker": {
             "colorbar": {
              "outlinewidth": 0,
              "ticks": ""
             }
            },
            "type": "scattergl"
           }
          ],
          "scattermapbox": [
           {
            "marker": {
             "colorbar": {
              "outlinewidth": 0,
              "ticks": ""
             }
            },
            "type": "scattermapbox"
           }
          ],
          "scatterpolar": [
           {
            "marker": {
             "colorbar": {
              "outlinewidth": 0,
              "ticks": ""
             }
            },
            "type": "scatterpolar"
           }
          ],
          "scatterpolargl": [
           {
            "marker": {
             "colorbar": {
              "outlinewidth": 0,
              "ticks": ""
             }
            },
            "type": "scatterpolargl"
           }
          ],
          "scatterternary": [
           {
            "marker": {
             "colorbar": {
              "outlinewidth": 0,
              "ticks": ""
             }
            },
            "type": "scatterternary"
           }
          ],
          "surface": [
           {
            "colorbar": {
             "outlinewidth": 0,
             "ticks": ""
            },
            "colorscale": [
             [
              0,
              "#0d0887"
             ],
             [
              0.1111111111111111,
              "#46039f"
             ],
             [
              0.2222222222222222,
              "#7201a8"
             ],
             [
              0.3333333333333333,
              "#9c179e"
             ],
             [
              0.4444444444444444,
              "#bd3786"
             ],
             [
              0.5555555555555556,
              "#d8576b"
             ],
             [
              0.6666666666666666,
              "#ed7953"
             ],
             [
              0.7777777777777778,
              "#fb9f3a"
             ],
             [
              0.8888888888888888,
              "#fdca26"
             ],
             [
              1,
              "#f0f921"
             ]
            ],
            "type": "surface"
           }
          ],
          "table": [
           {
            "cells": {
             "fill": {
              "color": "#EBF0F8"
             },
             "line": {
              "color": "white"
             }
            },
            "header": {
             "fill": {
              "color": "#C8D4E3"
             },
             "line": {
              "color": "white"
             }
            },
            "type": "table"
           }
          ]
         },
         "layout": {
          "annotationdefaults": {
           "arrowcolor": "#2a3f5f",
           "arrowhead": 0,
           "arrowwidth": 1
          },
          "autotypenumbers": "strict",
          "coloraxis": {
           "colorbar": {
            "outlinewidth": 0,
            "ticks": ""
           }
          },
          "colorscale": {
           "diverging": [
            [
             0,
             "#8e0152"
            ],
            [
             0.1,
             "#c51b7d"
            ],
            [
             0.2,
             "#de77ae"
            ],
            [
             0.3,
             "#f1b6da"
            ],
            [
             0.4,
             "#fde0ef"
            ],
            [
             0.5,
             "#f7f7f7"
            ],
            [
             0.6,
             "#e6f5d0"
            ],
            [
             0.7,
             "#b8e186"
            ],
            [
             0.8,
             "#7fbc41"
            ],
            [
             0.9,
             "#4d9221"
            ],
            [
             1,
             "#276419"
            ]
           ],
           "sequential": [
            [
             0,
             "#0d0887"
            ],
            [
             0.1111111111111111,
             "#46039f"
            ],
            [
             0.2222222222222222,
             "#7201a8"
            ],
            [
             0.3333333333333333,
             "#9c179e"
            ],
            [
             0.4444444444444444,
             "#bd3786"
            ],
            [
             0.5555555555555556,
             "#d8576b"
            ],
            [
             0.6666666666666666,
             "#ed7953"
            ],
            [
             0.7777777777777778,
             "#fb9f3a"
            ],
            [
             0.8888888888888888,
             "#fdca26"
            ],
            [
             1,
             "#f0f921"
            ]
           ],
           "sequentialminus": [
            [
             0,
             "#0d0887"
            ],
            [
             0.1111111111111111,
             "#46039f"
            ],
            [
             0.2222222222222222,
             "#7201a8"
            ],
            [
             0.3333333333333333,
             "#9c179e"
            ],
            [
             0.4444444444444444,
             "#bd3786"
            ],
            [
             0.5555555555555556,
             "#d8576b"
            ],
            [
             0.6666666666666666,
             "#ed7953"
            ],
            [
             0.7777777777777778,
             "#fb9f3a"
            ],
            [
             0.8888888888888888,
             "#fdca26"
            ],
            [
             1,
             "#f0f921"
            ]
           ]
          },
          "colorway": [
           "#636efa",
           "#EF553B",
           "#00cc96",
           "#ab63fa",
           "#FFA15A",
           "#19d3f3",
           "#FF6692",
           "#B6E880",
           "#FF97FF",
           "#FECB52"
          ],
          "font": {
           "color": "#2a3f5f"
          },
          "geo": {
           "bgcolor": "white",
           "lakecolor": "white",
           "landcolor": "#E5ECF6",
           "showlakes": true,
           "showland": true,
           "subunitcolor": "white"
          },
          "hoverlabel": {
           "align": "left"
          },
          "hovermode": "closest",
          "mapbox": {
           "style": "light"
          },
          "paper_bgcolor": "white",
          "plot_bgcolor": "#E5ECF6",
          "polar": {
           "angularaxis": {
            "gridcolor": "white",
            "linecolor": "white",
            "ticks": ""
           },
           "bgcolor": "#E5ECF6",
           "radialaxis": {
            "gridcolor": "white",
            "linecolor": "white",
            "ticks": ""
           }
          },
          "scene": {
           "xaxis": {
            "backgroundcolor": "#E5ECF6",
            "gridcolor": "white",
            "gridwidth": 2,
            "linecolor": "white",
            "showbackground": true,
            "ticks": "",
            "zerolinecolor": "white"
           },
           "yaxis": {
            "backgroundcolor": "#E5ECF6",
            "gridcolor": "white",
            "gridwidth": 2,
            "linecolor": "white",
            "showbackground": true,
            "ticks": "",
            "zerolinecolor": "white"
           },
           "zaxis": {
            "backgroundcolor": "#E5ECF6",
            "gridcolor": "white",
            "gridwidth": 2,
            "linecolor": "white",
            "showbackground": true,
            "ticks": "",
            "zerolinecolor": "white"
           }
          },
          "shapedefaults": {
           "line": {
            "color": "#2a3f5f"
           }
          },
          "ternary": {
           "aaxis": {
            "gridcolor": "white",
            "linecolor": "white",
            "ticks": ""
           },
           "baxis": {
            "gridcolor": "white",
            "linecolor": "white",
            "ticks": ""
           },
           "bgcolor": "#E5ECF6",
           "caxis": {
            "gridcolor": "white",
            "linecolor": "white",
            "ticks": ""
           }
          },
          "title": {
           "x": 0.05
          },
          "xaxis": {
           "automargin": true,
           "gridcolor": "white",
           "linecolor": "white",
           "ticks": "",
           "title": {
            "standoff": 15
           },
           "zerolinecolor": "white",
           "zerolinewidth": 2
          },
          "yaxis": {
           "automargin": true,
           "gridcolor": "white",
           "linecolor": "white",
           "ticks": "",
           "title": {
            "standoff": 15
           },
           "zerolinecolor": "white",
           "zerolinewidth": 2
          }
         }
        },
        "title": {
         "text": "<br>Network graph made with Python"
        },
        "xaxis": {
         "showgrid": false,
         "showticklabels": false,
         "zeroline": false
        },
        "yaxis": {
         "showgrid": false,
         "showticklabels": false,
         "zeroline": false
        }
       }
      },
      "text/html": [
       "<div>                            <div id=\"c79df65b-b53e-4e7a-8df9-be5089ce0756\" class=\"plotly-graph-div\" style=\"height:525px; width:100%;\"></div>            <script type=\"text/javascript\">                require([\"plotly\"], function(Plotly) {                    window.PLOTLYENV=window.PLOTLYENV || {};                                    if (document.getElementById(\"c79df65b-b53e-4e7a-8df9-be5089ce0756\")) {                    Plotly.newPlot(                        \"c79df65b-b53e-4e7a-8df9-be5089ce0756\",                        [{\"hovertemplate\":\"Edge %{hovertext}\\u003cextra\\u003e\\u003c\\u002fextra\\u003e\",\"hovertext\":[\"BRD4-\\u003eBRD2 evidence count: 2\",\"BRD4-\\u003eNOP2 evidence count: 6\",\"BRD4-\\u003eBRD3 evidence count: 5\",\"BRD2-\\u003eBRD4 evidence count: 2\",\"BRD2-\\u003eBRD3 evidence count: 1\",\"BRD3-\\u003eBRD2 evidence count: 1\",\"BRD3-\\u003eBRD4 evidence count: 5\",\"KRR1-\\u003eNOP2 evidence count: 1\",\"KRR1-\\u003eUTP15 evidence count: 1\",\"NOP2-\\u003eBRD4 evidence count: 6\",\"NOP2-\\u003eKRR1 evidence count: 1\",\"NOP2-\\u003eGTPBP4 evidence count: 2\",\"NOP2-\\u003eCEBPZ evidence count: 1\",\"CEBPZ-\\u003eNOP2 evidence count: 1\",\"CEBPZ-\\u003eGTPBP4 evidence count: 1\",\"GTPBP4-\\u003eNOP2 evidence count: 2\",\"GTPBP4-\\u003eWDR12 evidence count: 1\",\"GTPBP4-\\u003eCEBPZ evidence count: 1\",\"KHSRP-\\u003eFUBP3 evidence count: 1\",\"KHSRP-\\u003eDAZAP1 evidence count: 1\",\"KHSRP-\\u003eHNRNPD evidence count: 9\",\"KHSRP-\\u003eTIA1 evidence count: 1\",\"FUBP3-\\u003eDAZAP1 evidence count: 1\",\"FUBP3-\\u003eKHSRP evidence count: 1\",\"FUBP3-\\u003eHNRNPD evidence count: 1\",\"FUBP3-\\u003eQKI evidence count: 4\",\"HNRNPD-\\u003eFUBP3 evidence count: 1\",\"HNRNPD-\\u003eKHSRP evidence count: 9\",\"HNRNPD-\\u003eHEATR3 evidence count: 1\",\"HNRNPD-\\u003eTIA1 evidence count: 6\",\"DAZAP1-\\u003eFUBP3 evidence count: 1\",\"DAZAP1-\\u003eKHSRP evidence count: 1\",\"DAZAP1-\\u003eTIA1 evidence count: 1\",\"QKI-\\u003eFUBP3 evidence count: 4\",\"UTP15-\\u003eWDR43 evidence count: 5\",\"UTP15-\\u003eKRR1 evidence count: 1\",\"WDR43-\\u003eUTP15 evidence count: 5\",\"TIA1-\\u003eDAZAP1 evidence count: 1\",\"TIA1-\\u003eKHSRP evidence count: 1\",\"TIA1-\\u003eHNRNPD evidence count: 6\",\"HEATR3-\\u003eHNRNPD evidence count: 1\",\"WDR12-\\u003eGTPBP4 evidence count: 1\"],\"marker\":{\"opacity\":0},\"mode\":\"markers\",\"showlegend\":false,\"x\":[0.9697747999877624,0.7736045561298126,0.8919389633999862,0.9697747999877624,0.9221641634122237,0.9221641634122237,0.8919389633999862,0.2953717584047317,0.20824298445613199,0.7736045561298126,0.2953717584047317,0.6766847535954437,0.5675589520987626,0.5675589520987626,0.6365841934101061,0.6766847535954437,0.36373051049189403,0.6365841934101061,-0.6017487436101913,-0.6890374509599955,-0.539797484358339,-0.575883397768459,-0.8708323872572974,-0.6017487436101913,-0.7215924206556408,-0.8000912975591307,-0.7215924206556408,-0.539797484358339,-0.7761148871879446,-0.6957270748139085,-0.8708323872572974,-0.6890374509599955,-0.844967041415565,-0.8000912975591307,0.3163797015657608,0.20824298445613199,0.3163797015657608,-0.844967041415565,-0.575883397768459,-0.6957270748139085,-0.7761148871879446,0.36373051049189403],\"y\":[-0.06627961429564422,-0.07735862228520098,-0.34474957520929717,-0.06627961429564422,-0.20928466520175362,-0.20928466520175362,-0.34474957520929717,-0.41332356693160704,-0.8660282994695369,-0.07735862228520098,-0.41332356693160704,0.3179625285936906,0.46966220161443956,0.46966220161443956,0.7405974504753443,0.3179625285936906,0.7611599931043707,0.7405974504753443,-0.019577399908590254,0.32800284719799055,0.5004749333325279,0.42841359409113855,-0.10237723041926944,-0.019577399908590254,0.07009485571526791,-0.3978336582077393,0.07009485571526791,0.5004749333325279,0.27549549631946985,0.5180858497149967,-0.10237723041926944,0.32800284719799055,0.34561376358045937,-0.3978336582077393,-0.9125050011139877,-0.8660282994695369,-0.9125050011139877,0.34561376358045937,0.42841359409113855,0.5180858497149967,0.27549549631946985,0.7611599931043707],\"type\":\"scatter\"},{\"hoverinfo\":\"text\",\"hovertext\":[\"rRNA Base Methylation (GO:0070475) w\\u002f p-value 0.0221614275546731\",\"rRNA Base Methylation (GO:0070475) w\\u002f p-value 0.0221614275546731\",\"rRNA Base Methylation (GO:0070475) w\\u002f p-value 0.0221614275546731\",\"Ribosomal Small Subunit Biogenesis (GO:0042274) w\\u002f p-value 1.2148964030328515e-06\",\"rRNA Base Methylation (GO:0070475) w\\u002f p-value 0.0221614275546731\",\"Ribosomal Large Subunit Biogenesis (GO:0042273) w\\u002f p-value 0.0006428303631987923\",\"Ribosomal Large Subunit Biogenesis (GO:0042273) w\\u002f p-value 0.0006428303631987923\",\"Regulation Of mRNA Splicing, Via Spliceosome (GO:0048024) w\\u002f p-value 0.0147662288010609\",\"Regulation Of mRNA Processing (GO:0050684) w\\u002f p-value 0.0279722900850615\",\"Regulation Of mRNA Splicing, Via Spliceosome (GO:0048024) w\\u002f p-value 0.0147662288010609\",\"Regulation Of mRNA Splicing, Via Spliceosome (GO:0048024) w\\u002f p-value 0.0147662288010609\",\"Regulation Of mRNA Processing (GO:0050684) w\\u002f p-value 0.0279722900850615\",\"Ribosomal Small Subunit Biogenesis (GO:0042274) w\\u002f p-value 1.2148964030328515e-06\",\"Ribosomal Small Subunit Biogenesis (GO:0042274) w\\u002f p-value 1.2148964030328515e-06\",\"Regulation Of mRNA Splicing, Via Spliceosome (GO:0048024) w\\u002f p-value 0.0147662288010609\",\"Regulation Of mRNA Splicing, Via Spliceosome (GO:0048024) w\\u002f p-value 0.0147662288010609\",\"Ribosomal Large Subunit Biogenesis (GO:0042273) w\\u002f p-value 0.0006428303631987923\"],\"marker\":{\"color\":[0,0,0,4,0,1,1,2,3,2,2,3,4,4,2,2,1],\"colorbar\":{\"thickness\":15,\"title\":{\"side\":\"right\",\"text\":\"Cluster ID\"},\"xanchor\":\"left\"},\"colorscale\":[[0.0,\"rgb(255,255,217)\"],[0.125,\"rgb(237,248,177)\"],[0.25,\"rgb(199,233,180)\"],[0.375,\"rgb(127,205,187)\"],[0.5,\"rgb(65,182,196)\"],[0.625,\"rgb(29,145,192)\"],[0.75,\"rgb(34,94,168)\"],[0.875,\"rgb(37,52,148)\"],[1.0,\"rgb(8,29,88)\"]],\"line\":{\"width\":2},\"reversescale\":true,\"showscale\":true,\"size\":30},\"mode\":\"markers+text\",\"text\":[\"BRD4\",\"BRD2\",\"BRD3\",\"KRR1\",\"NOP2\",\"CEBPZ\",\"GTPBP4\",\"KHSRP\",\"FUBP3\",\"HNRNPD\",\"DAZAP1\",\"QKI\",\"UTP15\",\"WDR43\",\"TIA1\",\"HEATR3\",\"WDR12\"],\"textposition\":\"bottom center\",\"x\":[0.9395495999755249,0.9999999999999999,0.8443283268244476,-0.016915995474636875,0.6076595122841002,0.527458391913425,0.7457099949067871,-0.4199538073128894,-0.7835436799074931,-0.6596411614037885,-0.9581210946071016,-0.8166389152107683,0.4334019643869008,0.19935743874462075,-0.7318129882240285,-0.8925886129721009,-0.01824897392299907],\"y\":[-0.20174452430318776,0.06918529571189934,-0.4877546261154066,-0.873674413596,0.047027279732785816,0.8922971234960932,0.5888977774545954,0.41080267770866974,-0.44995747752585025,0.5901471889563861,0.24520301668731137,-0.3457098388896284,-0.8583821853430738,-0.9666278168849016,0.4460245104736073,-0.03915619631744637,0.933422208754146],\"type\":\"scatter\"}],                        {\"annotations\":[{\"arrowcolor\":\"lightgreen\",\"arrowhead\":3,\"arrowwidth\":2,\"ax\":0.9999999999999999,\"axref\":\"x\",\"ay\":0.06918529571189934,\"ayref\":\"y\",\"showarrow\":true,\"x\":0.9395495999755249,\"xref\":\"x\",\"y\":-0.20174452430318776,\"yref\":\"y\"},{\"arrowcolor\":\"lightgreen\",\"arrowhead\":3,\"arrowwidth\":5,\"ax\":0.6076595122841002,\"axref\":\"x\",\"ay\":0.047027279732785816,\"ayref\":\"y\",\"showarrow\":true,\"x\":0.9395495999755249,\"xref\":\"x\",\"y\":-0.20174452430318776,\"yref\":\"y\"},{\"arrowcolor\":\"lightgreen\",\"arrowhead\":3,\"arrowwidth\":5,\"ax\":0.8443283268244476,\"axref\":\"x\",\"ay\":-0.4877546261154066,\"ayref\":\"y\",\"showarrow\":true,\"x\":0.9395495999755249,\"xref\":\"x\",\"y\":-0.20174452430318776,\"yref\":\"y\"},{\"arrowcolor\":\"lightgreen\",\"arrowhead\":3,\"arrowwidth\":2,\"ax\":0.9395495999755249,\"axref\":\"x\",\"ay\":-0.20174452430318776,\"ayref\":\"y\",\"showarrow\":true,\"x\":0.9999999999999999,\"xref\":\"x\",\"y\":0.06918529571189934,\"yref\":\"y\"},{\"arrowcolor\":\"lightgreen\",\"arrowhead\":3,\"arrowwidth\":1,\"ax\":0.8443283268244476,\"axref\":\"x\",\"ay\":-0.4877546261154066,\"ayref\":\"y\",\"showarrow\":true,\"x\":0.9999999999999999,\"xref\":\"x\",\"y\":0.06918529571189934,\"yref\":\"y\"},{\"arrowcolor\":\"lightgreen\",\"arrowhead\":3,\"arrowwidth\":1,\"ax\":0.9999999999999999,\"axref\":\"x\",\"ay\":0.06918529571189934,\"ayref\":\"y\",\"showarrow\":true,\"x\":0.8443283268244476,\"xref\":\"x\",\"y\":-0.4877546261154066,\"yref\":\"y\"},{\"arrowcolor\":\"lightgreen\",\"arrowhead\":3,\"arrowwidth\":5,\"ax\":0.9395495999755249,\"axref\":\"x\",\"ay\":-0.20174452430318776,\"ayref\":\"y\",\"showarrow\":true,\"x\":0.8443283268244476,\"xref\":\"x\",\"y\":-0.4877546261154066,\"yref\":\"y\"},{\"arrowcolor\":\"lightgreen\",\"arrowhead\":3,\"arrowwidth\":1,\"ax\":0.6076595122841002,\"axref\":\"x\",\"ay\":0.047027279732785816,\"ayref\":\"y\",\"showarrow\":true,\"x\":-0.016915995474636875,\"xref\":\"x\",\"y\":-0.873674413596,\"yref\":\"y\"},{\"arrowcolor\":\"lightgreen\",\"arrowhead\":3,\"arrowwidth\":1,\"ax\":0.4334019643869008,\"axref\":\"x\",\"ay\":-0.8583821853430738,\"ayref\":\"y\",\"showarrow\":true,\"x\":-0.016915995474636875,\"xref\":\"x\",\"y\":-0.873674413596,\"yref\":\"y\"},{\"arrowcolor\":\"lightgreen\",\"arrowhead\":3,\"arrowwidth\":5,\"ax\":0.9395495999755249,\"axref\":\"x\",\"ay\":-0.20174452430318776,\"ayref\":\"y\",\"showarrow\":true,\"x\":0.6076595122841002,\"xref\":\"x\",\"y\":0.047027279732785816,\"yref\":\"y\"},{\"arrowcolor\":\"lightgreen\",\"arrowhead\":3,\"arrowwidth\":1,\"ax\":-0.016915995474636875,\"axref\":\"x\",\"ay\":-0.873674413596,\"ayref\":\"y\",\"showarrow\":true,\"x\":0.6076595122841002,\"xref\":\"x\",\"y\":0.047027279732785816,\"yref\":\"y\"},{\"arrowcolor\":\"lightgreen\",\"arrowhead\":3,\"arrowwidth\":2,\"ax\":0.7457099949067871,\"axref\":\"x\",\"ay\":0.5888977774545954,\"ayref\":\"y\",\"showarrow\":true,\"x\":0.6076595122841002,\"xref\":\"x\",\"y\":0.047027279732785816,\"yref\":\"y\"},{\"arrowcolor\":\"lightgreen\",\"arrowhead\":3,\"arrowwidth\":1,\"ax\":0.527458391913425,\"axref\":\"x\",\"ay\":0.8922971234960932,\"ayref\":\"y\",\"showarrow\":true,\"x\":0.6076595122841002,\"xref\":\"x\",\"y\":0.047027279732785816,\"yref\":\"y\"},{\"arrowcolor\":\"lightgreen\",\"arrowhead\":3,\"arrowwidth\":1,\"ax\":0.6076595122841002,\"axref\":\"x\",\"ay\":0.047027279732785816,\"ayref\":\"y\",\"showarrow\":true,\"x\":0.527458391913425,\"xref\":\"x\",\"y\":0.8922971234960932,\"yref\":\"y\"},{\"arrowcolor\":\"lightgreen\",\"arrowhead\":3,\"arrowwidth\":1,\"ax\":0.7457099949067871,\"axref\":\"x\",\"ay\":0.5888977774545954,\"ayref\":\"y\",\"showarrow\":true,\"x\":0.527458391913425,\"xref\":\"x\",\"y\":0.8922971234960932,\"yref\":\"y\"},{\"arrowcolor\":\"lightgreen\",\"arrowhead\":3,\"arrowwidth\":2,\"ax\":0.6076595122841002,\"axref\":\"x\",\"ay\":0.047027279732785816,\"ayref\":\"y\",\"showarrow\":true,\"x\":0.7457099949067871,\"xref\":\"x\",\"y\":0.5888977774545954,\"yref\":\"y\"},{\"arrowcolor\":\"lightgreen\",\"arrowhead\":3,\"arrowwidth\":1,\"ax\":-0.01824897392299907,\"axref\":\"x\",\"ay\":0.933422208754146,\"ayref\":\"y\",\"showarrow\":true,\"x\":0.7457099949067871,\"xref\":\"x\",\"y\":0.5888977774545954,\"yref\":\"y\"},{\"arrowcolor\":\"lightgreen\",\"arrowhead\":3,\"arrowwidth\":1,\"ax\":0.527458391913425,\"axref\":\"x\",\"ay\":0.8922971234960932,\"ayref\":\"y\",\"showarrow\":true,\"x\":0.7457099949067871,\"xref\":\"x\",\"y\":0.5888977774545954,\"yref\":\"y\"},{\"arrowcolor\":\"lightgreen\",\"arrowhead\":3,\"arrowwidth\":1,\"ax\":-0.7835436799074931,\"axref\":\"x\",\"ay\":-0.44995747752585025,\"ayref\":\"y\",\"showarrow\":true,\"x\":-0.4199538073128894,\"xref\":\"x\",\"y\":0.41080267770866974,\"yref\":\"y\"},{\"arrowcolor\":\"lightgreen\",\"arrowhead\":3,\"arrowwidth\":1,\"ax\":-0.9581210946071016,\"axref\":\"x\",\"ay\":0.24520301668731137,\"ayref\":\"y\",\"showarrow\":true,\"x\":-0.4199538073128894,\"xref\":\"x\",\"y\":0.41080267770866974,\"yref\":\"y\"},{\"arrowcolor\":\"lightgreen\",\"arrowhead\":3,\"arrowwidth\":5,\"ax\":-0.6596411614037885,\"axref\":\"x\",\"ay\":0.5901471889563861,\"ayref\":\"y\",\"showarrow\":true,\"x\":-0.4199538073128894,\"xref\":\"x\",\"y\":0.41080267770866974,\"yref\":\"y\"},{\"arrowcolor\":\"lightgreen\",\"arrowhead\":3,\"arrowwidth\":1,\"ax\":-0.7318129882240285,\"axref\":\"x\",\"ay\":0.4460245104736073,\"ayref\":\"y\",\"showarrow\":true,\"x\":-0.4199538073128894,\"xref\":\"x\",\"y\":0.41080267770866974,\"yref\":\"y\"},{\"arrowcolor\":\"lightgreen\",\"arrowhead\":3,\"arrowwidth\":1,\"ax\":-0.9581210946071016,\"axref\":\"x\",\"ay\":0.24520301668731137,\"ayref\":\"y\",\"showarrow\":true,\"x\":-0.7835436799074931,\"xref\":\"x\",\"y\":-0.44995747752585025,\"yref\":\"y\"},{\"arrowcolor\":\"lightgreen\",\"arrowhead\":3,\"arrowwidth\":1,\"ax\":-0.4199538073128894,\"axref\":\"x\",\"ay\":0.41080267770866974,\"ayref\":\"y\",\"showarrow\":true,\"x\":-0.7835436799074931,\"xref\":\"x\",\"y\":-0.44995747752585025,\"yref\":\"y\"},{\"arrowcolor\":\"lightgreen\",\"arrowhead\":3,\"arrowwidth\":1,\"ax\":-0.6596411614037885,\"axref\":\"x\",\"ay\":0.5901471889563861,\"ayref\":\"y\",\"showarrow\":true,\"x\":-0.7835436799074931,\"xref\":\"x\",\"y\":-0.44995747752585025,\"yref\":\"y\"},{\"arrowcolor\":\"lightgreen\",\"arrowhead\":3,\"arrowwidth\":4,\"ax\":-0.8166389152107683,\"axref\":\"x\",\"ay\":-0.3457098388896284,\"ayref\":\"y\",\"showarrow\":true,\"x\":-0.7835436799074931,\"xref\":\"x\",\"y\":-0.44995747752585025,\"yref\":\"y\"},{\"arrowcolor\":\"lightgreen\",\"arrowhead\":3,\"arrowwidth\":1,\"ax\":-0.7835436799074931,\"axref\":\"x\",\"ay\":-0.44995747752585025,\"ayref\":\"y\",\"showarrow\":true,\"x\":-0.6596411614037885,\"xref\":\"x\",\"y\":0.5901471889563861,\"yref\":\"y\"},{\"arrowcolor\":\"lightgreen\",\"arrowhead\":3,\"arrowwidth\":5,\"ax\":-0.4199538073128894,\"axref\":\"x\",\"ay\":0.41080267770866974,\"ayref\":\"y\",\"showarrow\":true,\"x\":-0.6596411614037885,\"xref\":\"x\",\"y\":0.5901471889563861,\"yref\":\"y\"},{\"arrowcolor\":\"lightgreen\",\"arrowhead\":3,\"arrowwidth\":1,\"ax\":-0.8925886129721009,\"axref\":\"x\",\"ay\":-0.03915619631744637,\"ayref\":\"y\",\"showarrow\":true,\"x\":-0.6596411614037885,\"xref\":\"x\",\"y\":0.5901471889563861,\"yref\":\"y\"},{\"arrowcolor\":\"lightgreen\",\"arrowhead\":3,\"arrowwidth\":5,\"ax\":-0.7318129882240285,\"axref\":\"x\",\"ay\":0.4460245104736073,\"ayref\":\"y\",\"showarrow\":true,\"x\":-0.6596411614037885,\"xref\":\"x\",\"y\":0.5901471889563861,\"yref\":\"y\"},{\"arrowcolor\":\"lightgreen\",\"arrowhead\":3,\"arrowwidth\":1,\"ax\":-0.7835436799074931,\"axref\":\"x\",\"ay\":-0.44995747752585025,\"ayref\":\"y\",\"showarrow\":true,\"x\":-0.9581210946071016,\"xref\":\"x\",\"y\":0.24520301668731137,\"yref\":\"y\"},{\"arrowcolor\":\"lightgreen\",\"arrowhead\":3,\"arrowwidth\":1,\"ax\":-0.4199538073128894,\"axref\":\"x\",\"ay\":0.41080267770866974,\"ayref\":\"y\",\"showarrow\":true,\"x\":-0.9581210946071016,\"xref\":\"x\",\"y\":0.24520301668731137,\"yref\":\"y\"},{\"arrowcolor\":\"lightgreen\",\"arrowhead\":3,\"arrowwidth\":1,\"ax\":-0.7318129882240285,\"axref\":\"x\",\"ay\":0.4460245104736073,\"ayref\":\"y\",\"showarrow\":true,\"x\":-0.9581210946071016,\"xref\":\"x\",\"y\":0.24520301668731137,\"yref\":\"y\"},{\"arrowcolor\":\"lightgreen\",\"arrowhead\":3,\"arrowwidth\":4,\"ax\":-0.7835436799074931,\"axref\":\"x\",\"ay\":-0.44995747752585025,\"ayref\":\"y\",\"showarrow\":true,\"x\":-0.8166389152107683,\"xref\":\"x\",\"y\":-0.3457098388896284,\"yref\":\"y\"},{\"arrowcolor\":\"lightgreen\",\"arrowhead\":3,\"arrowwidth\":5,\"ax\":0.19935743874462075,\"axref\":\"x\",\"ay\":-0.9666278168849016,\"ayref\":\"y\",\"showarrow\":true,\"x\":0.4334019643869008,\"xref\":\"x\",\"y\":-0.8583821853430738,\"yref\":\"y\"},{\"arrowcolor\":\"lightgreen\",\"arrowhead\":3,\"arrowwidth\":1,\"ax\":-0.016915995474636875,\"axref\":\"x\",\"ay\":-0.873674413596,\"ayref\":\"y\",\"showarrow\":true,\"x\":0.4334019643869008,\"xref\":\"x\",\"y\":-0.8583821853430738,\"yref\":\"y\"},{\"arrowcolor\":\"lightgreen\",\"arrowhead\":3,\"arrowwidth\":5,\"ax\":0.4334019643869008,\"axref\":\"x\",\"ay\":-0.8583821853430738,\"ayref\":\"y\",\"showarrow\":true,\"x\":0.19935743874462075,\"xref\":\"x\",\"y\":-0.9666278168849016,\"yref\":\"y\"},{\"arrowcolor\":\"lightgreen\",\"arrowhead\":3,\"arrowwidth\":1,\"ax\":-0.9581210946071016,\"axref\":\"x\",\"ay\":0.24520301668731137,\"ayref\":\"y\",\"showarrow\":true,\"x\":-0.7318129882240285,\"xref\":\"x\",\"y\":0.4460245104736073,\"yref\":\"y\"},{\"arrowcolor\":\"lightgreen\",\"arrowhead\":3,\"arrowwidth\":1,\"ax\":-0.4199538073128894,\"axref\":\"x\",\"ay\":0.41080267770866974,\"ayref\":\"y\",\"showarrow\":true,\"x\":-0.7318129882240285,\"xref\":\"x\",\"y\":0.4460245104736073,\"yref\":\"y\"},{\"arrowcolor\":\"lightgreen\",\"arrowhead\":3,\"arrowwidth\":5,\"ax\":-0.6596411614037885,\"axref\":\"x\",\"ay\":0.5901471889563861,\"ayref\":\"y\",\"showarrow\":true,\"x\":-0.7318129882240285,\"xref\":\"x\",\"y\":0.4460245104736073,\"yref\":\"y\"},{\"arrowcolor\":\"lightgreen\",\"arrowhead\":3,\"arrowwidth\":1,\"ax\":-0.6596411614037885,\"axref\":\"x\",\"ay\":0.5901471889563861,\"ayref\":\"y\",\"showarrow\":true,\"x\":-0.8925886129721009,\"xref\":\"x\",\"y\":-0.03915619631744637,\"yref\":\"y\"},{\"arrowcolor\":\"lightgreen\",\"arrowhead\":3,\"arrowwidth\":1,\"ax\":0.7457099949067871,\"axref\":\"x\",\"ay\":0.5888977774545954,\"ayref\":\"y\",\"showarrow\":true,\"x\":-0.01824897392299907,\"xref\":\"x\",\"y\":0.933422208754146,\"yref\":\"y\"}],\"font\":{\"color\":\"Black\",\"family\":\"Courier New, monospace\",\"size\":10},\"hovermode\":\"closest\",\"margin\":{\"b\":20,\"l\":5,\"r\":5,\"t\":40},\"showlegend\":false,\"title\":{\"text\":\"\\u003cbr\\u003eNetwork graph made with Python\"},\"xaxis\":{\"showgrid\":false,\"showticklabels\":false,\"zeroline\":false},\"yaxis\":{\"showgrid\":false,\"showticklabels\":false,\"zeroline\":false},\"template\":{\"data\":{\"histogram2dcontour\":[{\"type\":\"histogram2dcontour\",\"colorbar\":{\"outlinewidth\":0,\"ticks\":\"\"},\"colorscale\":[[0.0,\"#0d0887\"],[0.1111111111111111,\"#46039f\"],[0.2222222222222222,\"#7201a8\"],[0.3333333333333333,\"#9c179e\"],[0.4444444444444444,\"#bd3786\"],[0.5555555555555556,\"#d8576b\"],[0.6666666666666666,\"#ed7953\"],[0.7777777777777778,\"#fb9f3a\"],[0.8888888888888888,\"#fdca26\"],[1.0,\"#f0f921\"]]}],\"choropleth\":[{\"type\":\"choropleth\",\"colorbar\":{\"outlinewidth\":0,\"ticks\":\"\"}}],\"histogram2d\":[{\"type\":\"histogram2d\",\"colorbar\":{\"outlinewidth\":0,\"ticks\":\"\"},\"colorscale\":[[0.0,\"#0d0887\"],[0.1111111111111111,\"#46039f\"],[0.2222222222222222,\"#7201a8\"],[0.3333333333333333,\"#9c179e\"],[0.4444444444444444,\"#bd3786\"],[0.5555555555555556,\"#d8576b\"],[0.6666666666666666,\"#ed7953\"],[0.7777777777777778,\"#fb9f3a\"],[0.8888888888888888,\"#fdca26\"],[1.0,\"#f0f921\"]]}],\"heatmap\":[{\"type\":\"heatmap\",\"colorbar\":{\"outlinewidth\":0,\"ticks\":\"\"},\"colorscale\":[[0.0,\"#0d0887\"],[0.1111111111111111,\"#46039f\"],[0.2222222222222222,\"#7201a8\"],[0.3333333333333333,\"#9c179e\"],[0.4444444444444444,\"#bd3786\"],[0.5555555555555556,\"#d8576b\"],[0.6666666666666666,\"#ed7953\"],[0.7777777777777778,\"#fb9f3a\"],[0.8888888888888888,\"#fdca26\"],[1.0,\"#f0f921\"]]}],\"heatmapgl\":[{\"type\":\"heatmapgl\",\"colorbar\":{\"outlinewidth\":0,\"ticks\":\"\"},\"colorscale\":[[0.0,\"#0d0887\"],[0.1111111111111111,\"#46039f\"],[0.2222222222222222,\"#7201a8\"],[0.3333333333333333,\"#9c179e\"],[0.4444444444444444,\"#bd3786\"],[0.5555555555555556,\"#d8576b\"],[0.6666666666666666,\"#ed7953\"],[0.7777777777777778,\"#fb9f3a\"],[0.8888888888888888,\"#fdca26\"],[1.0,\"#f0f921\"]]}],\"contourcarpet\":[{\"type\":\"contourcarpet\",\"colorbar\":{\"outlinewidth\":0,\"ticks\":\"\"}}],\"contour\":[{\"type\":\"contour\",\"colorbar\":{\"outlinewidth\":0,\"ticks\":\"\"},\"colorscale\":[[0.0,\"#0d0887\"],[0.1111111111111111,\"#46039f\"],[0.2222222222222222,\"#7201a8\"],[0.3333333333333333,\"#9c179e\"],[0.4444444444444444,\"#bd3786\"],[0.5555555555555556,\"#d8576b\"],[0.6666666666666666,\"#ed7953\"],[0.7777777777777778,\"#fb9f3a\"],[0.8888888888888888,\"#fdca26\"],[1.0,\"#f0f921\"]]}],\"surface\":[{\"type\":\"surface\",\"colorbar\":{\"outlinewidth\":0,\"ticks\":\"\"},\"colorscale\":[[0.0,\"#0d0887\"],[0.1111111111111111,\"#46039f\"],[0.2222222222222222,\"#7201a8\"],[0.3333333333333333,\"#9c179e\"],[0.4444444444444444,\"#bd3786\"],[0.5555555555555556,\"#d8576b\"],[0.6666666666666666,\"#ed7953\"],[0.7777777777777778,\"#fb9f3a\"],[0.8888888888888888,\"#fdca26\"],[1.0,\"#f0f921\"]]}],\"mesh3d\":[{\"type\":\"mesh3d\",\"colorbar\":{\"outlinewidth\":0,\"ticks\":\"\"}}],\"scatter\":[{\"fillpattern\":{\"fillmode\":\"overlay\",\"size\":10,\"solidity\":0.2},\"type\":\"scatter\"}],\"parcoords\":[{\"type\":\"parcoords\",\"line\":{\"colorbar\":{\"outlinewidth\":0,\"ticks\":\"\"}}}],\"scatterpolargl\":[{\"type\":\"scatterpolargl\",\"marker\":{\"colorbar\":{\"outlinewidth\":0,\"ticks\":\"\"}}}],\"bar\":[{\"error_x\":{\"color\":\"#2a3f5f\"},\"error_y\":{\"color\":\"#2a3f5f\"},\"marker\":{\"line\":{\"color\":\"#E5ECF6\",\"width\":0.5},\"pattern\":{\"fillmode\":\"overlay\",\"size\":10,\"solidity\":0.2}},\"type\":\"bar\"}],\"scattergeo\":[{\"type\":\"scattergeo\",\"marker\":{\"colorbar\":{\"outlinewidth\":0,\"ticks\":\"\"}}}],\"scatterpolar\":[{\"type\":\"scatterpolar\",\"marker\":{\"colorbar\":{\"outlinewidth\":0,\"ticks\":\"\"}}}],\"histogram\":[{\"marker\":{\"pattern\":{\"fillmode\":\"overlay\",\"size\":10,\"solidity\":0.2}},\"type\":\"histogram\"}],\"scattergl\":[{\"type\":\"scattergl\",\"marker\":{\"colorbar\":{\"outlinewidth\":0,\"ticks\":\"\"}}}],\"scatter3d\":[{\"type\":\"scatter3d\",\"line\":{\"colorbar\":{\"outlinewidth\":0,\"ticks\":\"\"}},\"marker\":{\"colorbar\":{\"outlinewidth\":0,\"ticks\":\"\"}}}],\"scattermapbox\":[{\"type\":\"scattermapbox\",\"marker\":{\"colorbar\":{\"outlinewidth\":0,\"ticks\":\"\"}}}],\"scatterternary\":[{\"type\":\"scatterternary\",\"marker\":{\"colorbar\":{\"outlinewidth\":0,\"ticks\":\"\"}}}],\"scattercarpet\":[{\"type\":\"scattercarpet\",\"marker\":{\"colorbar\":{\"outlinewidth\":0,\"ticks\":\"\"}}}],\"carpet\":[{\"aaxis\":{\"endlinecolor\":\"#2a3f5f\",\"gridcolor\":\"white\",\"linecolor\":\"white\",\"minorgridcolor\":\"white\",\"startlinecolor\":\"#2a3f5f\"},\"baxis\":{\"endlinecolor\":\"#2a3f5f\",\"gridcolor\":\"white\",\"linecolor\":\"white\",\"minorgridcolor\":\"white\",\"startlinecolor\":\"#2a3f5f\"},\"type\":\"carpet\"}],\"table\":[{\"cells\":{\"fill\":{\"color\":\"#EBF0F8\"},\"line\":{\"color\":\"white\"}},\"header\":{\"fill\":{\"color\":\"#C8D4E3\"},\"line\":{\"color\":\"white\"}},\"type\":\"table\"}],\"barpolar\":[{\"marker\":{\"line\":{\"color\":\"#E5ECF6\",\"width\":0.5},\"pattern\":{\"fillmode\":\"overlay\",\"size\":10,\"solidity\":0.2}},\"type\":\"barpolar\"}],\"pie\":[{\"automargin\":true,\"type\":\"pie\"}]},\"layout\":{\"autotypenumbers\":\"strict\",\"colorway\":[\"#636efa\",\"#EF553B\",\"#00cc96\",\"#ab63fa\",\"#FFA15A\",\"#19d3f3\",\"#FF6692\",\"#B6E880\",\"#FF97FF\",\"#FECB52\"],\"font\":{\"color\":\"#2a3f5f\"},\"hovermode\":\"closest\",\"hoverlabel\":{\"align\":\"left\"},\"paper_bgcolor\":\"white\",\"plot_bgcolor\":\"#E5ECF6\",\"polar\":{\"bgcolor\":\"#E5ECF6\",\"angularaxis\":{\"gridcolor\":\"white\",\"linecolor\":\"white\",\"ticks\":\"\"},\"radialaxis\":{\"gridcolor\":\"white\",\"linecolor\":\"white\",\"ticks\":\"\"}},\"ternary\":{\"bgcolor\":\"#E5ECF6\",\"aaxis\":{\"gridcolor\":\"white\",\"linecolor\":\"white\",\"ticks\":\"\"},\"baxis\":{\"gridcolor\":\"white\",\"linecolor\":\"white\",\"ticks\":\"\"},\"caxis\":{\"gridcolor\":\"white\",\"linecolor\":\"white\",\"ticks\":\"\"}},\"coloraxis\":{\"colorbar\":{\"outlinewidth\":0,\"ticks\":\"\"}},\"colorscale\":{\"sequential\":[[0.0,\"#0d0887\"],[0.1111111111111111,\"#46039f\"],[0.2222222222222222,\"#7201a8\"],[0.3333333333333333,\"#9c179e\"],[0.4444444444444444,\"#bd3786\"],[0.5555555555555556,\"#d8576b\"],[0.6666666666666666,\"#ed7953\"],[0.7777777777777778,\"#fb9f3a\"],[0.8888888888888888,\"#fdca26\"],[1.0,\"#f0f921\"]],\"sequentialminus\":[[0.0,\"#0d0887\"],[0.1111111111111111,\"#46039f\"],[0.2222222222222222,\"#7201a8\"],[0.3333333333333333,\"#9c179e\"],[0.4444444444444444,\"#bd3786\"],[0.5555555555555556,\"#d8576b\"],[0.6666666666666666,\"#ed7953\"],[0.7777777777777778,\"#fb9f3a\"],[0.8888888888888888,\"#fdca26\"],[1.0,\"#f0f921\"]],\"diverging\":[[0,\"#8e0152\"],[0.1,\"#c51b7d\"],[0.2,\"#de77ae\"],[0.3,\"#f1b6da\"],[0.4,\"#fde0ef\"],[0.5,\"#f7f7f7\"],[0.6,\"#e6f5d0\"],[0.7,\"#b8e186\"],[0.8,\"#7fbc41\"],[0.9,\"#4d9221\"],[1,\"#276419\"]]},\"xaxis\":{\"gridcolor\":\"white\",\"linecolor\":\"white\",\"ticks\":\"\",\"title\":{\"standoff\":15},\"zerolinecolor\":\"white\",\"automargin\":true,\"zerolinewidth\":2},\"yaxis\":{\"gridcolor\":\"white\",\"linecolor\":\"white\",\"ticks\":\"\",\"title\":{\"standoff\":15},\"zerolinecolor\":\"white\",\"automargin\":true,\"zerolinewidth\":2},\"scene\":{\"xaxis\":{\"backgroundcolor\":\"#E5ECF6\",\"gridcolor\":\"white\",\"linecolor\":\"white\",\"showbackground\":true,\"ticks\":\"\",\"zerolinecolor\":\"white\",\"gridwidth\":2},\"yaxis\":{\"backgroundcolor\":\"#E5ECF6\",\"gridcolor\":\"white\",\"linecolor\":\"white\",\"showbackground\":true,\"ticks\":\"\",\"zerolinecolor\":\"white\",\"gridwidth\":2},\"zaxis\":{\"backgroundcolor\":\"#E5ECF6\",\"gridcolor\":\"white\",\"linecolor\":\"white\",\"showbackground\":true,\"ticks\":\"\",\"zerolinecolor\":\"white\",\"gridwidth\":2}},\"shapedefaults\":{\"line\":{\"color\":\"#2a3f5f\"}},\"annotationdefaults\":{\"arrowcolor\":\"#2a3f5f\",\"arrowhead\":0,\"arrowwidth\":1},\"geo\":{\"bgcolor\":\"white\",\"landcolor\":\"#E5ECF6\",\"subunitcolor\":\"white\",\"showland\":true,\"showlakes\":true,\"lakecolor\":\"white\"},\"title\":{\"x\":0.05},\"mapbox\":{\"style\":\"light\"}}}},                        {\"responsive\": true}                    ).then(function(){\n",
       "                            \n",
       "var gd = document.getElementById('c79df65b-b53e-4e7a-8df9-be5089ce0756');\n",
       "var x = new MutationObserver(function (mutations, observer) {{\n",
       "        var display = window.getComputedStyle(gd).display;\n",
       "        if (!display || display === 'none') {{\n",
       "            console.log([gd, 'removed!']);\n",
       "            Plotly.purge(gd);\n",
       "            observer.disconnect();\n",
       "        }}\n",
       "}});\n",
       "\n",
       "// Listen for the removal of the full notebook cells\n",
       "var notebookContainer = gd.closest('#notebook-container');\n",
       "if (notebookContainer) {{\n",
       "    x.observe(notebookContainer, {childList: true});\n",
       "}}\n",
       "\n",
       "// Listen for the clearing of the current output cell\n",
       "var outputEl = gd.closest('.output');\n",
       "if (outputEl) {{\n",
       "    x.observe(outputEl, {childList: true});\n",
       "}}\n",
       "\n",
       "                        })                };                });            </script>        </div>"
      ]
     },
     "metadata": {},
     "output_type": "display_data"
    }
   ],
   "source": [
    "create_plotly_graph(G)"
   ]
  },
  {
   "cell_type": "code",
   "execution_count": 24,
   "id": "b1fd68fa",
   "metadata": {},
   "outputs": [
    {
     "data": {
      "text/plain": [
       "OutEdgeView([('13575', '1103'), ('13575', '7867'), ('13575', '1104'), ('1103', '13575'), ('1103', '1104'), ('1104', '1103'), ('1104', '13575'), ('5176', '7867'), ('5176', '25758'), ('7867', '13575'), ('7867', '5176'), ('7867', '21535'), ('7867', '24218'), ('24218', '7867'), ('24218', '21535'), ('21535', '7867'), ('21535', '14098'), ('21535', '24218'), ('6316', '4005'), ('6316', '2683'), ('6316', '5036'), ('6316', '11802'), ('4005', '2683'), ('4005', '6316'), ('4005', '5036'), ('4005', '21100'), ('5036', '4005'), ('5036', '6316'), ('5036', '26087'), ('5036', '11802'), ('2683', '4005'), ('2683', '6316'), ('2683', '11802'), ('21100', '4005'), ('25758', '28945'), ('25758', '5176'), ('28945', '25758'), ('11802', '2683'), ('11802', '6316'), ('11802', '5036'), ('26087', '5036'), ('14098', '21535')])"
      ]
     },
     "execution_count": 24,
     "metadata": {},
     "output_type": "execute_result"
    }
   ],
   "source": [
    "G.edges()"
   ]
  },
  {
   "cell_type": "markdown",
   "id": "a2d22733",
   "metadata": {},
   "source": [
    "## STEP 4: GENERATE STATEMENT EVIDENCE BROWSER"
   ]
  },
  {
   "cell_type": "code",
   "execution_count": null,
   "id": "6457b8c1",
   "metadata": {},
   "outputs": [],
   "source": [
    "# Gather statistics for HTML presentation\n",
    "unique_stmts = {entry['data']['stmt_hash']: json.loads(entry['data']['stmt_json'])\n",
    "                for entry in subnetwork_relations}\n",
    "ev_counts_by_hash = {entry['data']['stmt_hash']: entry['data']['evidence_count']\n",
    "                     for entry in subnetwork_relations}\n",
    "source_counts_by_hash = {entry['data']['stmt_hash']: json.loads(entry['data']['source_counts'])\n",
    "                         for entry in subnetwork_relations}\n",
    "stmts = stmts_from_json(list(unique_stmts.values()))"
   ]
  },
  {
   "cell_type": "code",
   "execution_count": null,
   "id": "5e1baaad",
   "metadata": {
    "scrolled": false
   },
   "outputs": [],
   "source": [
    "ha = HtmlAssembler(stmts,\n",
    "                   title='INDRA subnetwork statements',\n",
    "                   db_rest_url='https://db.indra.bio',\n",
    "                   ev_counts=ev_counts_by_hash,\n",
    "                   source_counts=source_counts_by_hash)\n",
    "html_str = ha.make_model()"
   ]
  },
  {
   "cell_type": "code",
   "execution_count": null,
   "id": "70d66f7f",
   "metadata": {
    "scrolled": false
   },
   "outputs": [],
   "source": [
    "from IPython.core.display import HTML\n",
    "#HTML(html_str)"
   ]
  },
  {
   "cell_type": "code",
   "execution_count": null,
   "id": "be0e793b",
   "metadata": {},
   "outputs": [],
   "source": []
  }
 ],
 "metadata": {
  "kernelspec": {
   "display_name": "Python 3 (ipykernel)",
   "language": "python",
   "name": "python3"
  },
  "language_info": {
   "codemirror_mode": {
    "name": "ipython",
    "version": 3
   },
   "file_extension": ".py",
   "mimetype": "text/x-python",
   "name": "python",
   "nbconvert_exporter": "python",
   "pygments_lexer": "ipython3",
   "version": "3.10.13"
  }
 },
 "nbformat": 4,
 "nbformat_minor": 5
}
